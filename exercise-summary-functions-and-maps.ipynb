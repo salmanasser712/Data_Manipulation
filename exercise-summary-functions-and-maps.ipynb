{
 "cells": [
  {
   "cell_type": "markdown",
   "id": "7a495875",
   "metadata": {
    "papermill": {
     "duration": 0.007826,
     "end_time": "2022-06-27T17:29:39.938206",
     "exception": false,
     "start_time": "2022-06-27T17:29:39.930380",
     "status": "completed"
    },
    "tags": []
   },
   "source": [
    "**This notebook is an exercise in the [Pandas](https://www.kaggle.com/learn/pandas) course.  You can reference the tutorial at [this link](https://www.kaggle.com/residentmario/summary-functions-and-maps).**\n",
    "\n",
    "---\n"
   ]
  },
  {
   "cell_type": "markdown",
   "id": "128972d8",
   "metadata": {
    "papermill": {
     "duration": 0.006354,
     "end_time": "2022-06-27T17:29:39.951381",
     "exception": false,
     "start_time": "2022-06-27T17:29:39.945027",
     "status": "completed"
    },
    "tags": []
   },
   "source": [
    "# Introduction\n",
    "\n",
    "Now you are ready to get a deeper understanding of your data.\n",
    "\n",
    "Run the following cell to load your data and some utility functions (including code to check your answers)."
   ]
  },
  {
   "cell_type": "code",
   "execution_count": 1,
   "id": "6c15e2b2",
   "metadata": {
    "execution": {
     "iopub.execute_input": "2022-06-27T17:29:39.967428Z",
     "iopub.status.busy": "2022-06-27T17:29:39.966252Z",
     "iopub.status.idle": "2022-06-27T17:29:47.963088Z",
     "shell.execute_reply": "2022-06-27T17:29:47.961685Z"
    },
    "papermill": {
     "duration": 8.007534,
     "end_time": "2022-06-27T17:29:47.965580",
     "exception": false,
     "start_time": "2022-06-27T17:29:39.958046",
     "status": "completed"
    },
    "tags": []
   },
   "outputs": [
    {
     "name": "stdout",
     "output_type": "stream",
     "text": [
      "Setup complete.\n"
     ]
    },
    {
     "data": {
      "text/html": [
       "<div>\n",
       "<style scoped>\n",
       "    .dataframe tbody tr th:only-of-type {\n",
       "        vertical-align: middle;\n",
       "    }\n",
       "\n",
       "    .dataframe tbody tr th {\n",
       "        vertical-align: top;\n",
       "    }\n",
       "\n",
       "    .dataframe thead th {\n",
       "        text-align: right;\n",
       "    }\n",
       "</style>\n",
       "<table border=\"1\" class=\"dataframe\">\n",
       "  <thead>\n",
       "    <tr style=\"text-align: right;\">\n",
       "      <th></th>\n",
       "      <th>country</th>\n",
       "      <th>description</th>\n",
       "      <th>designation</th>\n",
       "      <th>points</th>\n",
       "      <th>price</th>\n",
       "      <th>province</th>\n",
       "      <th>region_1</th>\n",
       "      <th>region_2</th>\n",
       "      <th>taster_name</th>\n",
       "      <th>taster_twitter_handle</th>\n",
       "      <th>title</th>\n",
       "      <th>variety</th>\n",
       "      <th>winery</th>\n",
       "    </tr>\n",
       "  </thead>\n",
       "  <tbody>\n",
       "    <tr>\n",
       "      <th>0</th>\n",
       "      <td>Italy</td>\n",
       "      <td>Aromas include tropical fruit, broom, brimston...</td>\n",
       "      <td>Vulkà Bianco</td>\n",
       "      <td>87</td>\n",
       "      <td>NaN</td>\n",
       "      <td>Sicily &amp; Sardinia</td>\n",
       "      <td>Etna</td>\n",
       "      <td>NaN</td>\n",
       "      <td>Kerin O’Keefe</td>\n",
       "      <td>@kerinokeefe</td>\n",
       "      <td>Nicosia 2013 Vulkà Bianco  (Etna)</td>\n",
       "      <td>White Blend</td>\n",
       "      <td>Nicosia</td>\n",
       "    </tr>\n",
       "    <tr>\n",
       "      <th>1</th>\n",
       "      <td>Portugal</td>\n",
       "      <td>This is ripe and fruity, a wine that is smooth...</td>\n",
       "      <td>Avidagos</td>\n",
       "      <td>87</td>\n",
       "      <td>15.0</td>\n",
       "      <td>Douro</td>\n",
       "      <td>NaN</td>\n",
       "      <td>NaN</td>\n",
       "      <td>Roger Voss</td>\n",
       "      <td>@vossroger</td>\n",
       "      <td>Quinta dos Avidagos 2011 Avidagos Red (Douro)</td>\n",
       "      <td>Portuguese Red</td>\n",
       "      <td>Quinta dos Avidagos</td>\n",
       "    </tr>\n",
       "    <tr>\n",
       "      <th>2</th>\n",
       "      <td>US</td>\n",
       "      <td>Tart and snappy, the flavors of lime flesh and...</td>\n",
       "      <td>NaN</td>\n",
       "      <td>87</td>\n",
       "      <td>14.0</td>\n",
       "      <td>Oregon</td>\n",
       "      <td>Willamette Valley</td>\n",
       "      <td>Willamette Valley</td>\n",
       "      <td>Paul Gregutt</td>\n",
       "      <td>@paulgwine</td>\n",
       "      <td>Rainstorm 2013 Pinot Gris (Willamette Valley)</td>\n",
       "      <td>Pinot Gris</td>\n",
       "      <td>Rainstorm</td>\n",
       "    </tr>\n",
       "    <tr>\n",
       "      <th>3</th>\n",
       "      <td>US</td>\n",
       "      <td>Pineapple rind, lemon pith and orange blossom ...</td>\n",
       "      <td>Reserve Late Harvest</td>\n",
       "      <td>87</td>\n",
       "      <td>13.0</td>\n",
       "      <td>Michigan</td>\n",
       "      <td>Lake Michigan Shore</td>\n",
       "      <td>NaN</td>\n",
       "      <td>Alexander Peartree</td>\n",
       "      <td>NaN</td>\n",
       "      <td>St. Julian 2013 Reserve Late Harvest Riesling ...</td>\n",
       "      <td>Riesling</td>\n",
       "      <td>St. Julian</td>\n",
       "    </tr>\n",
       "    <tr>\n",
       "      <th>4</th>\n",
       "      <td>US</td>\n",
       "      <td>Much like the regular bottling from 2012, this...</td>\n",
       "      <td>Vintner's Reserve Wild Child Block</td>\n",
       "      <td>87</td>\n",
       "      <td>65.0</td>\n",
       "      <td>Oregon</td>\n",
       "      <td>Willamette Valley</td>\n",
       "      <td>Willamette Valley</td>\n",
       "      <td>Paul Gregutt</td>\n",
       "      <td>@paulgwine</td>\n",
       "      <td>Sweet Cheeks 2012 Vintner's Reserve Wild Child...</td>\n",
       "      <td>Pinot Noir</td>\n",
       "      <td>Sweet Cheeks</td>\n",
       "    </tr>\n",
       "  </tbody>\n",
       "</table>\n",
       "</div>"
      ],
      "text/plain": [
       "    country                                        description  \\\n",
       "0     Italy  Aromas include tropical fruit, broom, brimston...   \n",
       "1  Portugal  This is ripe and fruity, a wine that is smooth...   \n",
       "2        US  Tart and snappy, the flavors of lime flesh and...   \n",
       "3        US  Pineapple rind, lemon pith and orange blossom ...   \n",
       "4        US  Much like the regular bottling from 2012, this...   \n",
       "\n",
       "                          designation  points  price           province  \\\n",
       "0                        Vulkà Bianco      87    NaN  Sicily & Sardinia   \n",
       "1                            Avidagos      87   15.0              Douro   \n",
       "2                                 NaN      87   14.0             Oregon   \n",
       "3                Reserve Late Harvest      87   13.0           Michigan   \n",
       "4  Vintner's Reserve Wild Child Block      87   65.0             Oregon   \n",
       "\n",
       "              region_1           region_2         taster_name  \\\n",
       "0                 Etna                NaN       Kerin O’Keefe   \n",
       "1                  NaN                NaN          Roger Voss   \n",
       "2    Willamette Valley  Willamette Valley        Paul Gregutt   \n",
       "3  Lake Michigan Shore                NaN  Alexander Peartree   \n",
       "4    Willamette Valley  Willamette Valley        Paul Gregutt   \n",
       "\n",
       "  taster_twitter_handle                                              title  \\\n",
       "0          @kerinokeefe                  Nicosia 2013 Vulkà Bianco  (Etna)   \n",
       "1            @vossroger      Quinta dos Avidagos 2011 Avidagos Red (Douro)   \n",
       "2           @paulgwine       Rainstorm 2013 Pinot Gris (Willamette Valley)   \n",
       "3                   NaN  St. Julian 2013 Reserve Late Harvest Riesling ...   \n",
       "4           @paulgwine   Sweet Cheeks 2012 Vintner's Reserve Wild Child...   \n",
       "\n",
       "          variety               winery  \n",
       "0     White Blend              Nicosia  \n",
       "1  Portuguese Red  Quinta dos Avidagos  \n",
       "2      Pinot Gris            Rainstorm  \n",
       "3        Riesling           St. Julian  \n",
       "4      Pinot Noir         Sweet Cheeks  "
      ]
     },
     "execution_count": 1,
     "metadata": {},
     "output_type": "execute_result"
    }
   ],
   "source": [
    "import pandas as pd\n",
    "pd.set_option(\"display.max_rows\", 5)\n",
    "reviews = pd.read_csv(\"../input/wine-reviews/winemag-data-130k-v2.csv\", index_col=0)\n",
    "\n",
    "from learntools.core import binder; binder.bind(globals())\n",
    "from learntools.pandas.summary_functions_and_maps import *\n",
    "print(\"Setup complete.\")\n",
    "\n",
    "reviews.head()"
   ]
  },
  {
   "cell_type": "markdown",
   "id": "8481e184",
   "metadata": {
    "papermill": {
     "duration": 0.006867,
     "end_time": "2022-06-27T17:29:47.979702",
     "exception": false,
     "start_time": "2022-06-27T17:29:47.972835",
     "status": "completed"
    },
    "tags": []
   },
   "source": [
    "# Exercises"
   ]
  },
  {
   "cell_type": "markdown",
   "id": "8689a6be",
   "metadata": {
    "papermill": {
     "duration": 0.006826,
     "end_time": "2022-06-27T17:29:47.993535",
     "exception": false,
     "start_time": "2022-06-27T17:29:47.986709",
     "status": "completed"
    },
    "tags": []
   },
   "source": [
    "## 1.\n",
    "\n",
    "What is the median of the `points` column in the `reviews` DataFrame?"
   ]
  },
  {
   "cell_type": "code",
   "execution_count": 2,
   "id": "6dcd6236",
   "metadata": {
    "execution": {
     "iopub.execute_input": "2022-06-27T17:29:48.009989Z",
     "iopub.status.busy": "2022-06-27T17:29:48.008830Z",
     "iopub.status.idle": "2022-06-27T17:29:48.020832Z",
     "shell.execute_reply": "2022-06-27T17:29:48.019671Z"
    },
    "papermill": {
     "duration": 0.02254,
     "end_time": "2022-06-27T17:29:48.023127",
     "exception": false,
     "start_time": "2022-06-27T17:29:48.000587",
     "status": "completed"
    },
    "tags": []
   },
   "outputs": [
    {
     "data": {
      "application/javascript": [
       "parent.postMessage({\"jupyterEvent\": \"custom.exercise_interaction\", \"data\": {\"outcomeType\": 1, \"valueTowardsCompletion\": 0.14285714285714285, \"interactionType\": 1, \"questionType\": 1, \"questionId\": \"1_MedianPoints\", \"learnToolsVersion\": \"0.3.4\", \"failureMessage\": \"\", \"exceptionClass\": \"\", \"trace\": \"\"}}, \"*\")"
      ],
      "text/plain": [
       "<IPython.core.display.Javascript object>"
      ]
     },
     "metadata": {},
     "output_type": "display_data"
    },
    {
     "data": {
      "text/markdown": [
       "<span style=\"color:#33cc33\">Correct</span>"
      ],
      "text/plain": [
       "Correct"
      ]
     },
     "metadata": {},
     "output_type": "display_data"
    }
   ],
   "source": [
    "median_points = reviews.points.median()\n",
    "\n",
    "# Check your answer\n",
    "q1.check()"
   ]
  },
  {
   "cell_type": "code",
   "execution_count": 3,
   "id": "304e6b1b",
   "metadata": {
    "execution": {
     "iopub.execute_input": "2022-06-27T17:29:48.040252Z",
     "iopub.status.busy": "2022-06-27T17:29:48.039473Z",
     "iopub.status.idle": "2022-06-27T17:29:48.043927Z",
     "shell.execute_reply": "2022-06-27T17:29:48.043146Z"
    },
    "papermill": {
     "duration": 0.015586,
     "end_time": "2022-06-27T17:29:48.046200",
     "exception": false,
     "start_time": "2022-06-27T17:29:48.030614",
     "status": "completed"
    },
    "tags": []
   },
   "outputs": [],
   "source": [
    "#q1.hint()\n",
    "#q1.solution()"
   ]
  },
  {
   "cell_type": "markdown",
   "id": "4a2a3775",
   "metadata": {
    "papermill": {
     "duration": 0.007161,
     "end_time": "2022-06-27T17:29:48.060644",
     "exception": false,
     "start_time": "2022-06-27T17:29:48.053483",
     "status": "completed"
    },
    "tags": []
   },
   "source": [
    "## 2. \n",
    "What countries are represented in the dataset? (Your answer should not include any duplicates.)"
   ]
  },
  {
   "cell_type": "code",
   "execution_count": 4,
   "id": "e9dd9467",
   "metadata": {
    "execution": {
     "iopub.execute_input": "2022-06-27T17:29:48.077606Z",
     "iopub.status.busy": "2022-06-27T17:29:48.076715Z",
     "iopub.status.idle": "2022-06-27T17:29:48.098913Z",
     "shell.execute_reply": "2022-06-27T17:29:48.097830Z"
    },
    "papermill": {
     "duration": 0.0333,
     "end_time": "2022-06-27T17:29:48.101273",
     "exception": false,
     "start_time": "2022-06-27T17:29:48.067973",
     "status": "completed"
    },
    "tags": []
   },
   "outputs": [
    {
     "data": {
      "application/javascript": [
       "parent.postMessage({\"jupyterEvent\": \"custom.exercise_interaction\", \"data\": {\"outcomeType\": 1, \"valueTowardsCompletion\": 0.14285714285714285, \"interactionType\": 1, \"questionType\": 2, \"questionId\": \"2_UniqueCountries\", \"learnToolsVersion\": \"0.3.4\", \"failureMessage\": \"\", \"exceptionClass\": \"\", \"trace\": \"\"}}, \"*\")"
      ],
      "text/plain": [
       "<IPython.core.display.Javascript object>"
      ]
     },
     "metadata": {},
     "output_type": "display_data"
    },
    {
     "data": {
      "text/markdown": [
       "<span style=\"color:#33cc33\">Correct</span>"
      ],
      "text/plain": [
       "Correct"
      ]
     },
     "metadata": {},
     "output_type": "display_data"
    }
   ],
   "source": [
    "countries = reviews.country.unique()\n",
    "\n",
    "# Check your answer\n",
    "q2.check()"
   ]
  },
  {
   "cell_type": "code",
   "execution_count": 5,
   "id": "6459eed9",
   "metadata": {
    "execution": {
     "iopub.execute_input": "2022-06-27T17:29:48.118919Z",
     "iopub.status.busy": "2022-06-27T17:29:48.118503Z",
     "iopub.status.idle": "2022-06-27T17:29:48.123194Z",
     "shell.execute_reply": "2022-06-27T17:29:48.121784Z"
    },
    "papermill": {
     "duration": 0.016261,
     "end_time": "2022-06-27T17:29:48.125495",
     "exception": false,
     "start_time": "2022-06-27T17:29:48.109234",
     "status": "completed"
    },
    "tags": []
   },
   "outputs": [],
   "source": [
    "#q2.hint()\n",
    "#q2.solution()"
   ]
  },
  {
   "cell_type": "markdown",
   "id": "a9837c61",
   "metadata": {
    "papermill": {
     "duration": 0.007546,
     "end_time": "2022-06-27T17:29:48.140982",
     "exception": false,
     "start_time": "2022-06-27T17:29:48.133436",
     "status": "completed"
    },
    "tags": []
   },
   "source": [
    "## 3.\n",
    "How often does each country appear in the dataset? Create a Series `reviews_per_country` mapping countries to the count of reviews of wines from that country."
   ]
  },
  {
   "cell_type": "code",
   "execution_count": 6,
   "id": "b39e6e4d",
   "metadata": {
    "execution": {
     "iopub.execute_input": "2022-06-27T17:29:48.158510Z",
     "iopub.status.busy": "2022-06-27T17:29:48.158107Z",
     "iopub.status.idle": "2022-06-27T17:29:48.186146Z",
     "shell.execute_reply": "2022-06-27T17:29:48.185292Z"
    },
    "papermill": {
     "duration": 0.039573,
     "end_time": "2022-06-27T17:29:48.188506",
     "exception": false,
     "start_time": "2022-06-27T17:29:48.148933",
     "status": "completed"
    },
    "tags": []
   },
   "outputs": [
    {
     "data": {
      "application/javascript": [
       "parent.postMessage({\"jupyterEvent\": \"custom.exercise_interaction\", \"data\": {\"outcomeType\": 1, \"valueTowardsCompletion\": 0.14285714285714285, \"interactionType\": 1, \"questionType\": 1, \"questionId\": \"3_ReviewsPerCountry\", \"learnToolsVersion\": \"0.3.4\", \"failureMessage\": \"\", \"exceptionClass\": \"\", \"trace\": \"\"}}, \"*\")"
      ],
      "text/plain": [
       "<IPython.core.display.Javascript object>"
      ]
     },
     "metadata": {},
     "output_type": "display_data"
    },
    {
     "data": {
      "text/markdown": [
       "<span style=\"color:#33cc33\">Correct</span>"
      ],
      "text/plain": [
       "Correct"
      ]
     },
     "metadata": {},
     "output_type": "display_data"
    }
   ],
   "source": [
    "reviews_per_country = reviews.country.value_counts()\n",
    "\n",
    "# Check your answer\n",
    "q3.check()"
   ]
  },
  {
   "cell_type": "code",
   "execution_count": 7,
   "id": "1f9b981d",
   "metadata": {
    "execution": {
     "iopub.execute_input": "2022-06-27T17:29:48.207209Z",
     "iopub.status.busy": "2022-06-27T17:29:48.206790Z",
     "iopub.status.idle": "2022-06-27T17:29:48.210759Z",
     "shell.execute_reply": "2022-06-27T17:29:48.209647Z"
    },
    "papermill": {
     "duration": 0.015832,
     "end_time": "2022-06-27T17:29:48.212872",
     "exception": false,
     "start_time": "2022-06-27T17:29:48.197040",
     "status": "completed"
    },
    "tags": []
   },
   "outputs": [],
   "source": [
    "#q3.hint()\n",
    "#q3.solution()"
   ]
  },
  {
   "cell_type": "markdown",
   "id": "4f4981c6",
   "metadata": {
    "papermill": {
     "duration": 0.007839,
     "end_time": "2022-06-27T17:29:48.229055",
     "exception": false,
     "start_time": "2022-06-27T17:29:48.221216",
     "status": "completed"
    },
    "tags": []
   },
   "source": [
    "## 4.\n",
    "Create variable `centered_price` containing a version of the `price` column with the mean price subtracted.\n",
    "\n",
    "(Note: this 'centering' transformation is a common preprocessing step before applying various machine learning algorithms.) "
   ]
  },
  {
   "cell_type": "code",
   "execution_count": 8,
   "id": "657ae41a",
   "metadata": {
    "execution": {
     "iopub.execute_input": "2022-06-27T17:29:48.247064Z",
     "iopub.status.busy": "2022-06-27T17:29:48.246664Z",
     "iopub.status.idle": "2022-06-27T17:29:48.257043Z",
     "shell.execute_reply": "2022-06-27T17:29:48.256288Z"
    },
    "papermill": {
     "duration": 0.021818,
     "end_time": "2022-06-27T17:29:48.259020",
     "exception": false,
     "start_time": "2022-06-27T17:29:48.237202",
     "status": "completed"
    },
    "tags": []
   },
   "outputs": [
    {
     "data": {
      "application/javascript": [
       "parent.postMessage({\"jupyterEvent\": \"custom.exercise_interaction\", \"data\": {\"outcomeType\": 1, \"valueTowardsCompletion\": 0.14285714285714285, \"interactionType\": 1, \"questionType\": 1, \"questionId\": \"4_CenteredPrice\", \"learnToolsVersion\": \"0.3.4\", \"failureMessage\": \"\", \"exceptionClass\": \"\", \"trace\": \"\"}}, \"*\")"
      ],
      "text/plain": [
       "<IPython.core.display.Javascript object>"
      ]
     },
     "metadata": {},
     "output_type": "display_data"
    },
    {
     "data": {
      "text/markdown": [
       "<span style=\"color:#33cc33\">Correct</span>"
      ],
      "text/plain": [
       "Correct"
      ]
     },
     "metadata": {},
     "output_type": "display_data"
    }
   ],
   "source": [
    "m = reviews.price.mean()\n",
    "centered_price = reviews.price - m\n",
    "\n",
    "# Check your answer\n",
    "q4.check()"
   ]
  },
  {
   "cell_type": "code",
   "execution_count": 9,
   "id": "e83ecd7d",
   "metadata": {
    "execution": {
     "iopub.execute_input": "2022-06-27T17:29:48.278146Z",
     "iopub.status.busy": "2022-06-27T17:29:48.277349Z",
     "iopub.status.idle": "2022-06-27T17:29:48.281869Z",
     "shell.execute_reply": "2022-06-27T17:29:48.281149Z"
    },
    "papermill": {
     "duration": 0.016265,
     "end_time": "2022-06-27T17:29:48.284110",
     "exception": false,
     "start_time": "2022-06-27T17:29:48.267845",
     "status": "completed"
    },
    "tags": []
   },
   "outputs": [],
   "source": [
    "#q4.hint()\n",
    "#q4.solution()"
   ]
  },
  {
   "cell_type": "markdown",
   "id": "29d0510b",
   "metadata": {
    "papermill": {
     "duration": 0.00812,
     "end_time": "2022-06-27T17:29:48.300717",
     "exception": false,
     "start_time": "2022-06-27T17:29:48.292597",
     "status": "completed"
    },
    "tags": []
   },
   "source": [
    "## 5.\n",
    "I'm an economical wine buyer. Which wine is the \"best bargain\"? Create a variable `bargain_wine` with the title of the wine with the highest points-to-price ratio in the dataset."
   ]
  },
  {
   "cell_type": "code",
   "execution_count": 10,
   "id": "0f5976d2",
   "metadata": {
    "execution": {
     "iopub.execute_input": "2022-06-27T17:29:48.319663Z",
     "iopub.status.busy": "2022-06-27T17:29:48.319272Z",
     "iopub.status.idle": "2022-06-27T17:29:48.334434Z",
     "shell.execute_reply": "2022-06-27T17:29:48.333349Z"
    },
    "papermill": {
     "duration": 0.027562,
     "end_time": "2022-06-27T17:29:48.337099",
     "exception": false,
     "start_time": "2022-06-27T17:29:48.309537",
     "status": "completed"
    },
    "tags": []
   },
   "outputs": [
    {
     "data": {
      "application/javascript": [
       "parent.postMessage({\"jupyterEvent\": \"custom.exercise_interaction\", \"data\": {\"outcomeType\": 1, \"valueTowardsCompletion\": 0.14285714285714285, \"interactionType\": 1, \"questionType\": 2, \"questionId\": \"5_BargainWine\", \"learnToolsVersion\": \"0.3.4\", \"failureMessage\": \"\", \"exceptionClass\": \"\", \"trace\": \"\"}}, \"*\")"
      ],
      "text/plain": [
       "<IPython.core.display.Javascript object>"
      ]
     },
     "metadata": {},
     "output_type": "display_data"
    },
    {
     "data": {
      "text/markdown": [
       "<span style=\"color:#33cc33\">Correct</span>"
      ],
      "text/plain": [
       "Correct"
      ]
     },
     "metadata": {},
     "output_type": "display_data"
    }
   ],
   "source": [
    "# mx = float(-2)\n",
    "# bargain_wine = ''\n",
    "\n",
    "# def cal_ratio(row):\n",
    "#     global mx\n",
    "#     global bargain_wine\n",
    "#     ratio = float(row.points / row.price)\n",
    "#     if ratio > mx:\n",
    "#         mx = ratio\n",
    "#         bargain_wine = row.title\n",
    "#     return row\n",
    "\n",
    "# reviews.apply(cal_ratio, axis='columns')\n",
    "\n",
    "\n",
    "\n",
    "# much faster\n",
    "bargain_idx = (reviews.points / reviews.price).idxmax()\n",
    "bargain_wine = reviews.loc[bargain_idx, 'title']\n",
    "\n",
    "\n",
    "# Check your answer\n",
    "q5.check()"
   ]
  },
  {
   "cell_type": "code",
   "execution_count": 11,
   "id": "2df9c51c",
   "metadata": {
    "execution": {
     "iopub.execute_input": "2022-06-27T17:29:48.356364Z",
     "iopub.status.busy": "2022-06-27T17:29:48.355917Z",
     "iopub.status.idle": "2022-06-27T17:29:48.363805Z",
     "shell.execute_reply": "2022-06-27T17:29:48.363051Z"
    },
    "papermill": {
     "duration": 0.019935,
     "end_time": "2022-06-27T17:29:48.365807",
     "exception": false,
     "start_time": "2022-06-27T17:29:48.345872",
     "status": "completed"
    },
    "tags": []
   },
   "outputs": [
    {
     "data": {
      "application/javascript": [
       "parent.postMessage({\"jupyterEvent\": \"custom.exercise_interaction\", \"data\": {\"interactionType\": 3, \"questionType\": 2, \"questionId\": \"5_BargainWine\", \"learnToolsVersion\": \"0.3.4\", \"valueTowardsCompletion\": 0.0, \"failureMessage\": \"\", \"exceptionClass\": \"\", \"trace\": \"\", \"outcomeType\": 4}}, \"*\")"
      ],
      "text/plain": [
       "<IPython.core.display.Javascript object>"
      ]
     },
     "metadata": {},
     "output_type": "display_data"
    },
    {
     "data": {
      "text/markdown": [
       "<span style=\"color:#33cc99\">Solution:</span> \n",
       "```python\n",
       "bargain_idx = (reviews.points / reviews.price).idxmax()\n",
       "bargain_wine = reviews.loc[bargain_idx, 'title']\n",
       "```"
      ],
      "text/plain": [
       "Solution: \n",
       "```python\n",
       "bargain_idx = (reviews.points / reviews.price).idxmax()\n",
       "bargain_wine = reviews.loc[bargain_idx, 'title']\n",
       "```"
      ]
     },
     "metadata": {},
     "output_type": "display_data"
    }
   ],
   "source": [
    "#q5.hint()\n",
    "q5.solution()"
   ]
  },
  {
   "cell_type": "markdown",
   "id": "9f9b8dcd",
   "metadata": {
    "papermill": {
     "duration": 0.009077,
     "end_time": "2022-06-27T17:29:48.383982",
     "exception": false,
     "start_time": "2022-06-27T17:29:48.374905",
     "status": "completed"
    },
    "tags": []
   },
   "source": [
    "## 6.\n",
    "There are only so many words you can use when describing a bottle of wine. Is a wine more likely to be \"tropical\" or \"fruity\"? Create a Series `descriptor_counts` counting how many times each of these two words appears in the `description` column in the dataset. (For simplicity, let's ignore the capitalized versions of these words.)"
   ]
  },
  {
   "cell_type": "code",
   "execution_count": 12,
   "id": "0acea0cf",
   "metadata": {
    "execution": {
     "iopub.execute_input": "2022-06-27T17:29:48.404148Z",
     "iopub.status.busy": "2022-06-27T17:29:48.403442Z",
     "iopub.status.idle": "2022-06-27T17:29:48.553366Z",
     "shell.execute_reply": "2022-06-27T17:29:48.552037Z"
    },
    "papermill": {
     "duration": 0.163217,
     "end_time": "2022-06-27T17:29:48.556222",
     "exception": false,
     "start_time": "2022-06-27T17:29:48.393005",
     "status": "completed"
    },
    "tags": []
   },
   "outputs": [],
   "source": [
    "# c1 = 0\n",
    "# c2 = 0\n",
    "\n",
    "# def c_find(row):\n",
    "#     global c1\n",
    "#     global c2\n",
    "    \n",
    "#     if row.description.find('tropical') != -1:\n",
    "#         c1 += 1\n",
    "        \n",
    "#     if row.description.find('fruity') != -1:\n",
    "#         c2 += 1\n",
    "#     return row\n",
    "\n",
    "# reviews.apply(c_find, axis='columns')\n",
    "\n",
    "# descriptor_counts = pd.Series([c1, c2], index=['tropical', 'fruity'])\n",
    "\n",
    "\n",
    "#faster n_trop without the sum returns an array with pool values and the sum counts only the true after \n",
    "n_trop = reviews.description.map(lambda desc: \"tropical\" in desc).sum()\n",
    "n_fruity = reviews.description.map(lambda desc: \"fruity\" in desc).sum()\n",
    "descriptor_counts = pd.Series([n_trop, n_fruity], index=['tropical', 'fruity'])\n",
    "\n",
    "# Check your answer\n",
    "#q6.check()"
   ]
  },
  {
   "cell_type": "code",
   "execution_count": 13,
   "id": "4d9e5324",
   "metadata": {
    "execution": {
     "iopub.execute_input": "2022-06-27T17:29:48.576773Z",
     "iopub.status.busy": "2022-06-27T17:29:48.576361Z",
     "iopub.status.idle": "2022-06-27T17:29:48.587542Z",
     "shell.execute_reply": "2022-06-27T17:29:48.586581Z"
    },
    "papermill": {
     "duration": 0.023931,
     "end_time": "2022-06-27T17:29:48.589839",
     "exception": false,
     "start_time": "2022-06-27T17:29:48.565908",
     "status": "completed"
    },
    "tags": []
   },
   "outputs": [
    {
     "data": {
      "application/javascript": [
       "parent.postMessage({\"jupyterEvent\": \"custom.exercise_interaction\", \"data\": {\"interactionType\": 2, \"questionType\": 1, \"questionId\": \"6_DescriptorCounts\", \"learnToolsVersion\": \"0.3.4\", \"valueTowardsCompletion\": 0.0, \"failureMessage\": \"\", \"exceptionClass\": \"\", \"trace\": \"\", \"outcomeType\": 4}}, \"*\")"
      ],
      "text/plain": [
       "<IPython.core.display.Javascript object>"
      ]
     },
     "metadata": {},
     "output_type": "display_data"
    },
    {
     "data": {
      "text/markdown": [
       "<span style=\"color:#3366cc\">Hint:</span> Use a map to check each description for the string `tropical`, then count up the number of times this is `True`. Repeat this for `fruity`. Finally, create a `Series` combining the two values."
      ],
      "text/plain": [
       "Hint: Use a map to check each description for the string `tropical`, then count up the number of times this is `True`. Repeat this for `fruity`. Finally, create a `Series` combining the two values."
      ]
     },
     "metadata": {},
     "output_type": "display_data"
    },
    {
     "data": {
      "application/javascript": [
       "parent.postMessage({\"jupyterEvent\": \"custom.exercise_interaction\", \"data\": {\"interactionType\": 3, \"questionType\": 1, \"questionId\": \"6_DescriptorCounts\", \"learnToolsVersion\": \"0.3.4\", \"valueTowardsCompletion\": 0.0, \"failureMessage\": \"\", \"exceptionClass\": \"\", \"trace\": \"\", \"outcomeType\": 4}}, \"*\")"
      ],
      "text/plain": [
       "<IPython.core.display.Javascript object>"
      ]
     },
     "metadata": {},
     "output_type": "display_data"
    },
    {
     "data": {
      "text/markdown": [
       "<span style=\"color:#33cc99\">Solution:</span> \n",
       "```python\n",
       "n_trop = reviews.description.map(lambda desc: \"tropical\" in desc).sum()\n",
       "n_fruity = reviews.description.map(lambda desc: \"fruity\" in desc).sum()\n",
       "descriptor_counts = pd.Series([n_trop, n_fruity], index=['tropical', 'fruity'])\n",
       "```"
      ],
      "text/plain": [
       "Solution: \n",
       "```python\n",
       "n_trop = reviews.description.map(lambda desc: \"tropical\" in desc).sum()\n",
       "n_fruity = reviews.description.map(lambda desc: \"fruity\" in desc).sum()\n",
       "descriptor_counts = pd.Series([n_trop, n_fruity], index=['tropical', 'fruity'])\n",
       "```"
      ]
     },
     "metadata": {},
     "output_type": "display_data"
    }
   ],
   "source": [
    "q6.hint()\n",
    "q6.solution()"
   ]
  },
  {
   "cell_type": "markdown",
   "id": "4b84f933",
   "metadata": {
    "papermill": {
     "duration": 0.009532,
     "end_time": "2022-06-27T17:29:48.609062",
     "exception": false,
     "start_time": "2022-06-27T17:29:48.599530",
     "status": "completed"
    },
    "tags": []
   },
   "source": [
    "## 7.\n",
    "We'd like to host these wine reviews on our website, but a rating system ranging from 80 to 100 points is too hard to understand - we'd like to translate them into simple star ratings. A score of 95 or higher counts as 3 stars, a score of at least 85 but less than 95 is 2 stars. Any other score is 1 star.\n",
    "\n",
    "Also, the Canadian Vintners Association bought a lot of ads on the site, so any wines from Canada should automatically get 3 stars, regardless of points.\n",
    "\n",
    "Create a series `star_ratings` with the number of stars corresponding to each review in the dataset."
   ]
  },
  {
   "cell_type": "code",
   "execution_count": 14,
   "id": "a364431c",
   "metadata": {
    "execution": {
     "iopub.execute_input": "2022-06-27T17:29:48.629595Z",
     "iopub.status.busy": "2022-06-27T17:29:48.629187Z",
     "iopub.status.idle": "2022-06-27T17:30:04.818686Z",
     "shell.execute_reply": "2022-06-27T17:30:04.817394Z"
    },
    "papermill": {
     "duration": 16.202704,
     "end_time": "2022-06-27T17:30:04.821286",
     "exception": false,
     "start_time": "2022-06-27T17:29:48.618582",
     "status": "completed"
    },
    "tags": []
   },
   "outputs": [
    {
     "data": {
      "application/javascript": [
       "parent.postMessage({\"jupyterEvent\": \"custom.exercise_interaction\", \"data\": {\"outcomeType\": 1, \"valueTowardsCompletion\": 0.14285714285714285, \"interactionType\": 1, \"questionType\": 1, \"questionId\": \"7_StarRatings\", \"learnToolsVersion\": \"0.3.4\", \"failureMessage\": \"\", \"exceptionClass\": \"\", \"trace\": \"\"}}, \"*\")"
      ],
      "text/plain": [
       "<IPython.core.display.Javascript object>"
      ]
     },
     "metadata": {},
     "output_type": "display_data"
    },
    {
     "data": {
      "text/markdown": [
       "<span style=\"color:#33cc33\">Correct</span>"
      ],
      "text/plain": [
       "Correct"
      ]
     },
     "metadata": {},
     "output_type": "display_data"
    }
   ],
   "source": [
    "reviews['stars'] = 0\n",
    "\n",
    "def star(row):\n",
    "    point = row.points\n",
    "    if row.country == 'Canada':\n",
    "        row.stars = 3\n",
    "    elif point >= 95:\n",
    "        row.stars = 3\n",
    "    elif point >= 85:\n",
    "        row.stars = 2\n",
    "    else:\n",
    "        row.stars = 1\n",
    "    return row\n",
    "\n",
    "reviews = reviews.apply(star, axis='columns')\n",
    "\n",
    "star_ratings = pd.Series(reviews.stars)\n",
    "\n",
    "# Check your answer\n",
    "q7.check()"
   ]
  },
  {
   "cell_type": "code",
   "execution_count": 15,
   "id": "8c0f4ddc",
   "metadata": {
    "execution": {
     "iopub.execute_input": "2022-06-27T17:30:04.843014Z",
     "iopub.status.busy": "2022-06-27T17:30:04.842638Z",
     "iopub.status.idle": "2022-06-27T17:30:04.851805Z",
     "shell.execute_reply": "2022-06-27T17:30:04.850684Z"
    },
    "papermill": {
     "duration": 0.023012,
     "end_time": "2022-06-27T17:30:04.854321",
     "exception": false,
     "start_time": "2022-06-27T17:30:04.831309",
     "status": "completed"
    },
    "tags": []
   },
   "outputs": [
    {
     "data": {
      "application/javascript": [
       "parent.postMessage({\"jupyterEvent\": \"custom.exercise_interaction\", \"data\": {\"interactionType\": 2, \"questionType\": 1, \"questionId\": \"7_StarRatings\", \"learnToolsVersion\": \"0.3.4\", \"valueTowardsCompletion\": 0.0, \"failureMessage\": \"\", \"exceptionClass\": \"\", \"trace\": \"\", \"outcomeType\": 4}}, \"*\")"
      ],
      "text/plain": [
       "<IPython.core.display.Javascript object>"
      ]
     },
     "metadata": {},
     "output_type": "display_data"
    },
    {
     "data": {
      "text/markdown": [
       "<span style=\"color:#3366cc\">Hint:</span> Begin by writing a custom function that accepts a row from the DataFrame as input and returns the star rating corresponding to the row.  Then, use `DataFrame.apply` to apply the custom function to every row in the dataset."
      ],
      "text/plain": [
       "Hint: Begin by writing a custom function that accepts a row from the DataFrame as input and returns the star rating corresponding to the row.  Then, use `DataFrame.apply` to apply the custom function to every row in the dataset."
      ]
     },
     "metadata": {},
     "output_type": "display_data"
    }
   ],
   "source": [
    "q7.hint()\n",
    "#q7.solution()"
   ]
  },
  {
   "cell_type": "markdown",
   "id": "6b6158f7",
   "metadata": {
    "papermill": {
     "duration": 0.009605,
     "end_time": "2022-06-27T17:30:04.873865",
     "exception": false,
     "start_time": "2022-06-27T17:30:04.864260",
     "status": "completed"
    },
    "tags": []
   },
   "source": [
    "# Keep going\n",
    "Continue to **[grouping and sorting](https://www.kaggle.com/residentmario/grouping-and-sorting)**."
   ]
  },
  {
   "cell_type": "markdown",
   "id": "88734643",
   "metadata": {
    "papermill": {
     "duration": 0.009498,
     "end_time": "2022-06-27T17:30:04.893276",
     "exception": false,
     "start_time": "2022-06-27T17:30:04.883778",
     "status": "completed"
    },
    "tags": []
   },
   "source": [
    "---\n",
    "\n",
    "\n",
    "\n",
    "\n",
    "*Have questions or comments? Visit the [course discussion forum](https://www.kaggle.com/learn/pandas/discussion) to chat with other learners.*"
   ]
  }
 ],
 "metadata": {
  "kernelspec": {
   "display_name": "Python 3",
   "language": "python",
   "name": "python3"
  },
  "language_info": {
   "codemirror_mode": {
    "name": "ipython",
    "version": 3
   },
   "file_extension": ".py",
   "mimetype": "text/x-python",
   "name": "python",
   "nbconvert_exporter": "python",
   "pygments_lexer": "ipython3",
   "version": "3.7.12"
  },
  "papermill": {
   "default_parameters": {},
   "duration": 36.459464,
   "end_time": "2022-06-27T17:30:05.626838",
   "environment_variables": {},
   "exception": null,
   "input_path": "__notebook__.ipynb",
   "output_path": "__notebook__.ipynb",
   "parameters": {},
   "start_time": "2022-06-27T17:29:29.167374",
   "version": "2.3.4"
  }
 },
 "nbformat": 4,
 "nbformat_minor": 5
}
