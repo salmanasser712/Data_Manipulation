{
 "cells": [
  {
   "cell_type": "markdown",
   "id": "74f11810",
   "metadata": {
    "papermill": {
     "duration": 0.00743,
     "end_time": "2022-06-27T19:48:07.982866",
     "exception": false,
     "start_time": "2022-06-27T19:48:07.975436",
     "status": "completed"
    },
    "tags": []
   },
   "source": [
    "**This notebook is an exercise in the [Pandas](https://www.kaggle.com/learn/pandas) course.  You can reference the tutorial at [this link](https://www.kaggle.com/residentmario/renaming-and-combining).**\n",
    "\n",
    "---\n"
   ]
  },
  {
   "cell_type": "markdown",
   "id": "92386e2c",
   "metadata": {
    "papermill": {
     "duration": 0.005687,
     "end_time": "2022-06-27T19:48:07.995009",
     "exception": false,
     "start_time": "2022-06-27T19:48:07.989322",
     "status": "completed"
    },
    "tags": []
   },
   "source": [
    "# Introduction\n",
    "\n",
    "Run the following cell to load your data and some utility functions."
   ]
  },
  {
   "cell_type": "code",
   "execution_count": 1,
   "id": "39823222",
   "metadata": {
    "execution": {
     "iopub.execute_input": "2022-06-27T19:48:08.009955Z",
     "iopub.status.busy": "2022-06-27T19:48:08.009273Z",
     "iopub.status.idle": "2022-06-27T19:48:12.469071Z",
     "shell.execute_reply": "2022-06-27T19:48:12.468154Z"
    },
    "papermill": {
     "duration": 4.471732,
     "end_time": "2022-06-27T19:48:12.472806",
     "exception": false,
     "start_time": "2022-06-27T19:48:08.001074",
     "status": "completed"
    },
    "tags": []
   },
   "outputs": [
    {
     "name": "stdout",
     "output_type": "stream",
     "text": [
      "Setup complete.\n"
     ]
    }
   ],
   "source": [
    "import pandas as pd\n",
    "\n",
    "reviews = pd.read_csv(\"../input/wine-reviews/winemag-data-130k-v2.csv\", index_col=0)\n",
    "\n",
    "from learntools.core import binder; binder.bind(globals())\n",
    "from learntools.pandas.renaming_and_combining import *\n",
    "print(\"Setup complete.\")"
   ]
  },
  {
   "cell_type": "markdown",
   "id": "c8a0ab82",
   "metadata": {
    "papermill": {
     "duration": 0.005696,
     "end_time": "2022-06-27T19:48:12.485400",
     "exception": false,
     "start_time": "2022-06-27T19:48:12.479704",
     "status": "completed"
    },
    "tags": []
   },
   "source": [
    "# Exercises\n",
    "\n",
    "View the first several lines of your data by running the cell below:"
   ]
  },
  {
   "cell_type": "code",
   "execution_count": 2,
   "id": "e98a44c2",
   "metadata": {
    "execution": {
     "iopub.execute_input": "2022-06-27T19:48:12.499169Z",
     "iopub.status.busy": "2022-06-27T19:48:12.498755Z",
     "iopub.status.idle": "2022-06-27T19:48:12.523644Z",
     "shell.execute_reply": "2022-06-27T19:48:12.522511Z"
    },
    "papermill": {
     "duration": 0.034616,
     "end_time": "2022-06-27T19:48:12.525992",
     "exception": false,
     "start_time": "2022-06-27T19:48:12.491376",
     "status": "completed"
    },
    "tags": []
   },
   "outputs": [
    {
     "data": {
      "text/html": [
       "<div>\n",
       "<style scoped>\n",
       "    .dataframe tbody tr th:only-of-type {\n",
       "        vertical-align: middle;\n",
       "    }\n",
       "\n",
       "    .dataframe tbody tr th {\n",
       "        vertical-align: top;\n",
       "    }\n",
       "\n",
       "    .dataframe thead th {\n",
       "        text-align: right;\n",
       "    }\n",
       "</style>\n",
       "<table border=\"1\" class=\"dataframe\">\n",
       "  <thead>\n",
       "    <tr style=\"text-align: right;\">\n",
       "      <th></th>\n",
       "      <th>country</th>\n",
       "      <th>description</th>\n",
       "      <th>designation</th>\n",
       "      <th>points</th>\n",
       "      <th>price</th>\n",
       "      <th>province</th>\n",
       "      <th>region_1</th>\n",
       "      <th>region_2</th>\n",
       "      <th>taster_name</th>\n",
       "      <th>taster_twitter_handle</th>\n",
       "      <th>title</th>\n",
       "      <th>variety</th>\n",
       "      <th>winery</th>\n",
       "    </tr>\n",
       "  </thead>\n",
       "  <tbody>\n",
       "    <tr>\n",
       "      <th>0</th>\n",
       "      <td>Italy</td>\n",
       "      <td>Aromas include tropical fruit, broom, brimston...</td>\n",
       "      <td>Vulkà Bianco</td>\n",
       "      <td>87</td>\n",
       "      <td>NaN</td>\n",
       "      <td>Sicily &amp; Sardinia</td>\n",
       "      <td>Etna</td>\n",
       "      <td>NaN</td>\n",
       "      <td>Kerin O’Keefe</td>\n",
       "      <td>@kerinokeefe</td>\n",
       "      <td>Nicosia 2013 Vulkà Bianco  (Etna)</td>\n",
       "      <td>White Blend</td>\n",
       "      <td>Nicosia</td>\n",
       "    </tr>\n",
       "    <tr>\n",
       "      <th>1</th>\n",
       "      <td>Portugal</td>\n",
       "      <td>This is ripe and fruity, a wine that is smooth...</td>\n",
       "      <td>Avidagos</td>\n",
       "      <td>87</td>\n",
       "      <td>15.0</td>\n",
       "      <td>Douro</td>\n",
       "      <td>NaN</td>\n",
       "      <td>NaN</td>\n",
       "      <td>Roger Voss</td>\n",
       "      <td>@vossroger</td>\n",
       "      <td>Quinta dos Avidagos 2011 Avidagos Red (Douro)</td>\n",
       "      <td>Portuguese Red</td>\n",
       "      <td>Quinta dos Avidagos</td>\n",
       "    </tr>\n",
       "    <tr>\n",
       "      <th>2</th>\n",
       "      <td>US</td>\n",
       "      <td>Tart and snappy, the flavors of lime flesh and...</td>\n",
       "      <td>NaN</td>\n",
       "      <td>87</td>\n",
       "      <td>14.0</td>\n",
       "      <td>Oregon</td>\n",
       "      <td>Willamette Valley</td>\n",
       "      <td>Willamette Valley</td>\n",
       "      <td>Paul Gregutt</td>\n",
       "      <td>@paulgwine</td>\n",
       "      <td>Rainstorm 2013 Pinot Gris (Willamette Valley)</td>\n",
       "      <td>Pinot Gris</td>\n",
       "      <td>Rainstorm</td>\n",
       "    </tr>\n",
       "    <tr>\n",
       "      <th>3</th>\n",
       "      <td>US</td>\n",
       "      <td>Pineapple rind, lemon pith and orange blossom ...</td>\n",
       "      <td>Reserve Late Harvest</td>\n",
       "      <td>87</td>\n",
       "      <td>13.0</td>\n",
       "      <td>Michigan</td>\n",
       "      <td>Lake Michigan Shore</td>\n",
       "      <td>NaN</td>\n",
       "      <td>Alexander Peartree</td>\n",
       "      <td>NaN</td>\n",
       "      <td>St. Julian 2013 Reserve Late Harvest Riesling ...</td>\n",
       "      <td>Riesling</td>\n",
       "      <td>St. Julian</td>\n",
       "    </tr>\n",
       "    <tr>\n",
       "      <th>4</th>\n",
       "      <td>US</td>\n",
       "      <td>Much like the regular bottling from 2012, this...</td>\n",
       "      <td>Vintner's Reserve Wild Child Block</td>\n",
       "      <td>87</td>\n",
       "      <td>65.0</td>\n",
       "      <td>Oregon</td>\n",
       "      <td>Willamette Valley</td>\n",
       "      <td>Willamette Valley</td>\n",
       "      <td>Paul Gregutt</td>\n",
       "      <td>@paulgwine</td>\n",
       "      <td>Sweet Cheeks 2012 Vintner's Reserve Wild Child...</td>\n",
       "      <td>Pinot Noir</td>\n",
       "      <td>Sweet Cheeks</td>\n",
       "    </tr>\n",
       "  </tbody>\n",
       "</table>\n",
       "</div>"
      ],
      "text/plain": [
       "    country                                        description  \\\n",
       "0     Italy  Aromas include tropical fruit, broom, brimston...   \n",
       "1  Portugal  This is ripe and fruity, a wine that is smooth...   \n",
       "2        US  Tart and snappy, the flavors of lime flesh and...   \n",
       "3        US  Pineapple rind, lemon pith and orange blossom ...   \n",
       "4        US  Much like the regular bottling from 2012, this...   \n",
       "\n",
       "                          designation  points  price           province  \\\n",
       "0                        Vulkà Bianco      87    NaN  Sicily & Sardinia   \n",
       "1                            Avidagos      87   15.0              Douro   \n",
       "2                                 NaN      87   14.0             Oregon   \n",
       "3                Reserve Late Harvest      87   13.0           Michigan   \n",
       "4  Vintner's Reserve Wild Child Block      87   65.0             Oregon   \n",
       "\n",
       "              region_1           region_2         taster_name  \\\n",
       "0                 Etna                NaN       Kerin O’Keefe   \n",
       "1                  NaN                NaN          Roger Voss   \n",
       "2    Willamette Valley  Willamette Valley        Paul Gregutt   \n",
       "3  Lake Michigan Shore                NaN  Alexander Peartree   \n",
       "4    Willamette Valley  Willamette Valley        Paul Gregutt   \n",
       "\n",
       "  taster_twitter_handle                                              title  \\\n",
       "0          @kerinokeefe                  Nicosia 2013 Vulkà Bianco  (Etna)   \n",
       "1            @vossroger      Quinta dos Avidagos 2011 Avidagos Red (Douro)   \n",
       "2           @paulgwine       Rainstorm 2013 Pinot Gris (Willamette Valley)   \n",
       "3                   NaN  St. Julian 2013 Reserve Late Harvest Riesling ...   \n",
       "4           @paulgwine   Sweet Cheeks 2012 Vintner's Reserve Wild Child...   \n",
       "\n",
       "          variety               winery  \n",
       "0     White Blend              Nicosia  \n",
       "1  Portuguese Red  Quinta dos Avidagos  \n",
       "2      Pinot Gris            Rainstorm  \n",
       "3        Riesling           St. Julian  \n",
       "4      Pinot Noir         Sweet Cheeks  "
      ]
     },
     "execution_count": 2,
     "metadata": {},
     "output_type": "execute_result"
    }
   ],
   "source": [
    "reviews.head()"
   ]
  },
  {
   "cell_type": "markdown",
   "id": "76c8cb3b",
   "metadata": {
    "papermill": {
     "duration": 0.006062,
     "end_time": "2022-06-27T19:48:12.538383",
     "exception": false,
     "start_time": "2022-06-27T19:48:12.532321",
     "status": "completed"
    },
    "tags": []
   },
   "source": [
    "## 1.\n",
    "`region_1` and `region_2` are pretty uninformative names for locale columns in the dataset. Create a copy of `reviews` with these columns renamed to `region` and `locale`, respectively."
   ]
  },
  {
   "cell_type": "code",
   "execution_count": 3,
   "id": "9f7e538d",
   "metadata": {
    "execution": {
     "iopub.execute_input": "2022-06-27T19:48:12.553553Z",
     "iopub.status.busy": "2022-06-27T19:48:12.552520Z",
     "iopub.status.idle": "2022-06-27T19:48:12.588566Z",
     "shell.execute_reply": "2022-06-27T19:48:12.587260Z"
    },
    "papermill": {
     "duration": 0.046395,
     "end_time": "2022-06-27T19:48:12.591093",
     "exception": false,
     "start_time": "2022-06-27T19:48:12.544698",
     "status": "completed"
    },
    "tags": []
   },
   "outputs": [
    {
     "data": {
      "application/javascript": [
       "parent.postMessage({\"jupyterEvent\": \"custom.exercise_interaction\", \"data\": {\"outcomeType\": 1, \"valueTowardsCompletion\": 0.25, \"interactionType\": 1, \"questionType\": 1, \"questionId\": \"1_RenameCols\", \"learnToolsVersion\": \"0.3.4\", \"failureMessage\": \"\", \"exceptionClass\": \"\", \"trace\": \"\"}}, \"*\")"
      ],
      "text/plain": [
       "<IPython.core.display.Javascript object>"
      ]
     },
     "metadata": {},
     "output_type": "display_data"
    },
    {
     "data": {
      "text/markdown": [
       "<span style=\"color:#33cc33\">Correct</span>"
      ],
      "text/plain": [
       "Correct"
      ]
     },
     "metadata": {},
     "output_type": "display_data"
    }
   ],
   "source": [
    "# Your code here\n",
    "renamed = reviews.rename(columns={'region_1' : 'region', 'region_2' : 'locale'})\n",
    "\n",
    "# Check your answer\n",
    "q1.check()"
   ]
  },
  {
   "cell_type": "code",
   "execution_count": 4,
   "id": "4064576d",
   "metadata": {
    "execution": {
     "iopub.execute_input": "2022-06-27T19:48:12.606702Z",
     "iopub.status.busy": "2022-06-27T19:48:12.606306Z",
     "iopub.status.idle": "2022-06-27T19:48:12.611145Z",
     "shell.execute_reply": "2022-06-27T19:48:12.610172Z"
    },
    "papermill": {
     "duration": 0.015512,
     "end_time": "2022-06-27T19:48:12.613519",
     "exception": false,
     "start_time": "2022-06-27T19:48:12.598007",
     "status": "completed"
    },
    "tags": []
   },
   "outputs": [],
   "source": [
    "#q1.hint()\n",
    "#q1.solution()"
   ]
  },
  {
   "cell_type": "markdown",
   "id": "cc9d46bc",
   "metadata": {
    "papermill": {
     "duration": 0.006734,
     "end_time": "2022-06-27T19:48:12.626852",
     "exception": false,
     "start_time": "2022-06-27T19:48:12.620118",
     "status": "completed"
    },
    "tags": []
   },
   "source": [
    "## 2.\n",
    "Set the index name in the dataset to `wines`."
   ]
  },
  {
   "cell_type": "code",
   "execution_count": 5,
   "id": "12b55e72",
   "metadata": {
    "execution": {
     "iopub.execute_input": "2022-06-27T19:48:12.641734Z",
     "iopub.status.busy": "2022-06-27T19:48:12.641329Z",
     "iopub.status.idle": "2022-06-27T19:48:12.674957Z",
     "shell.execute_reply": "2022-06-27T19:48:12.674120Z"
    },
    "papermill": {
     "duration": 0.043544,
     "end_time": "2022-06-27T19:48:12.677091",
     "exception": false,
     "start_time": "2022-06-27T19:48:12.633547",
     "status": "completed"
    },
    "tags": []
   },
   "outputs": [
    {
     "data": {
      "application/javascript": [
       "parent.postMessage({\"jupyterEvent\": \"custom.exercise_interaction\", \"data\": {\"outcomeType\": 1, \"valueTowardsCompletion\": 0.25, \"interactionType\": 1, \"questionType\": 1, \"questionId\": \"2_RenameIndex\", \"learnToolsVersion\": \"0.3.4\", \"failureMessage\": \"\", \"exceptionClass\": \"\", \"trace\": \"\"}}, \"*\")"
      ],
      "text/plain": [
       "<IPython.core.display.Javascript object>"
      ]
     },
     "metadata": {},
     "output_type": "display_data"
    },
    {
     "data": {
      "text/markdown": [
       "<span style=\"color:#33cc33\">Correct</span>"
      ],
      "text/plain": [
       "Correct"
      ]
     },
     "metadata": {},
     "output_type": "display_data"
    }
   ],
   "source": [
    "reindexed = reviews.rename_axis(\"wines\", axis='rows')\n",
    "\n",
    "# Check your answer\n",
    "q2.check()"
   ]
  },
  {
   "cell_type": "code",
   "execution_count": 6,
   "id": "45265412",
   "metadata": {
    "execution": {
     "iopub.execute_input": "2022-06-27T19:48:12.692517Z",
     "iopub.status.busy": "2022-06-27T19:48:12.692109Z",
     "iopub.status.idle": "2022-06-27T19:48:12.696961Z",
     "shell.execute_reply": "2022-06-27T19:48:12.695782Z"
    },
    "papermill": {
     "duration": 0.015521,
     "end_time": "2022-06-27T19:48:12.699381",
     "exception": false,
     "start_time": "2022-06-27T19:48:12.683860",
     "status": "completed"
    },
    "tags": []
   },
   "outputs": [],
   "source": [
    "#q2.hint()\n",
    "#q2.solution()"
   ]
  },
  {
   "cell_type": "markdown",
   "id": "8f2c673c",
   "metadata": {
    "papermill": {
     "duration": 0.00792,
     "end_time": "2022-06-27T19:48:12.715625",
     "exception": false,
     "start_time": "2022-06-27T19:48:12.707705",
     "status": "completed"
    },
    "tags": []
   },
   "source": [
    "## 3.\n",
    "The [Things on Reddit](https://www.kaggle.com/residentmario/things-on-reddit/data) dataset includes product links from a selection of top-ranked forums (\"subreddits\") on reddit.com. Run the cell below to load a dataframe of products mentioned on the */r/gaming* subreddit and another dataframe for products mentioned on the *r//movies* subreddit."
   ]
  },
  {
   "cell_type": "code",
   "execution_count": 7,
   "id": "ba2393a5",
   "metadata": {
    "execution": {
     "iopub.execute_input": "2022-06-27T19:48:12.733817Z",
     "iopub.status.busy": "2022-06-27T19:48:12.733409Z",
     "iopub.status.idle": "2022-06-27T19:48:12.748404Z",
     "shell.execute_reply": "2022-06-27T19:48:12.747582Z"
    },
    "papermill": {
     "duration": 0.02685,
     "end_time": "2022-06-27T19:48:12.750747",
     "exception": false,
     "start_time": "2022-06-27T19:48:12.723897",
     "status": "completed"
    },
    "tags": []
   },
   "outputs": [],
   "source": [
    "gaming_products = pd.read_csv(\"../input/things-on-reddit/top-things/top-things/reddits/g/gaming.csv\")\n",
    "gaming_products['subreddit'] = \"r/gaming\"\n",
    "movie_products = pd.read_csv(\"../input/things-on-reddit/top-things/top-things/reddits/m/movies.csv\")\n",
    "movie_products['subreddit'] = \"r/movies\""
   ]
  },
  {
   "cell_type": "markdown",
   "id": "752d02bf",
   "metadata": {
    "papermill": {
     "duration": 0.006478,
     "end_time": "2022-06-27T19:48:12.764388",
     "exception": false,
     "start_time": "2022-06-27T19:48:12.757910",
     "status": "completed"
    },
    "tags": []
   },
   "source": [
    "Create a `DataFrame` of products mentioned on *either* subreddit."
   ]
  },
  {
   "cell_type": "code",
   "execution_count": 8,
   "id": "7eaee2d5",
   "metadata": {
    "execution": {
     "iopub.execute_input": "2022-06-27T19:48:12.780066Z",
     "iopub.status.busy": "2022-06-27T19:48:12.779389Z",
     "iopub.status.idle": "2022-06-27T19:48:12.791741Z",
     "shell.execute_reply": "2022-06-27T19:48:12.790933Z"
    },
    "papermill": {
     "duration": 0.022681,
     "end_time": "2022-06-27T19:48:12.793772",
     "exception": false,
     "start_time": "2022-06-27T19:48:12.771091",
     "status": "completed"
    },
    "tags": []
   },
   "outputs": [
    {
     "data": {
      "application/javascript": [
       "parent.postMessage({\"jupyterEvent\": \"custom.exercise_interaction\", \"data\": {\"outcomeType\": 1, \"valueTowardsCompletion\": 0.25, \"interactionType\": 1, \"questionType\": 2, \"questionId\": \"3_ConcatReddit\", \"learnToolsVersion\": \"0.3.4\", \"failureMessage\": \"\", \"exceptionClass\": \"\", \"trace\": \"\"}}, \"*\")"
      ],
      "text/plain": [
       "<IPython.core.display.Javascript object>"
      ]
     },
     "metadata": {},
     "output_type": "display_data"
    },
    {
     "data": {
      "text/markdown": [
       "<span style=\"color:#33cc33\">Correct</span>"
      ],
      "text/plain": [
       "Correct"
      ]
     },
     "metadata": {},
     "output_type": "display_data"
    }
   ],
   "source": [
    "combined_products = pd.concat([gaming_products, movie_products])\n",
    "\n",
    "# Check your answer\n",
    "q3.check()"
   ]
  },
  {
   "cell_type": "code",
   "execution_count": 9,
   "id": "e9bb8b5f",
   "metadata": {
    "execution": {
     "iopub.execute_input": "2022-06-27T19:48:12.810001Z",
     "iopub.status.busy": "2022-06-27T19:48:12.809390Z",
     "iopub.status.idle": "2022-06-27T19:48:12.812809Z",
     "shell.execute_reply": "2022-06-27T19:48:12.812082Z"
    },
    "papermill": {
     "duration": 0.014046,
     "end_time": "2022-06-27T19:48:12.815053",
     "exception": false,
     "start_time": "2022-06-27T19:48:12.801007",
     "status": "completed"
    },
    "tags": []
   },
   "outputs": [],
   "source": [
    "#q3.hint()\n",
    "#q3.solution()"
   ]
  },
  {
   "cell_type": "markdown",
   "id": "917de13e",
   "metadata": {
    "papermill": {
     "duration": 0.007348,
     "end_time": "2022-06-27T19:48:12.829564",
     "exception": false,
     "start_time": "2022-06-27T19:48:12.822216",
     "status": "completed"
    },
    "tags": []
   },
   "source": [
    "## 4.\n",
    "The [Powerlifting Database](https://www.kaggle.com/open-powerlifting/powerlifting-database) dataset on Kaggle includes one CSV table for powerlifting meets and a separate one for powerlifting competitors. Run the cell below to load these datasets into dataframes:"
   ]
  },
  {
   "cell_type": "code",
   "execution_count": 10,
   "id": "40e8b956",
   "metadata": {
    "execution": {
     "iopub.execute_input": "2022-06-27T19:48:12.846926Z",
     "iopub.status.busy": "2022-06-27T19:48:12.846241Z",
     "iopub.status.idle": "2022-06-27T19:48:13.716920Z",
     "shell.execute_reply": "2022-06-27T19:48:13.716088Z"
    },
    "papermill": {
     "duration": 0.881553,
     "end_time": "2022-06-27T19:48:13.719393",
     "exception": false,
     "start_time": "2022-06-27T19:48:12.837840",
     "status": "completed"
    },
    "tags": []
   },
   "outputs": [],
   "source": [
    "powerlifting_meets = pd.read_csv(\"../input/powerlifting-database/meets.csv\")\n",
    "powerlifting_competitors = pd.read_csv(\"../input/powerlifting-database/openpowerlifting.csv\")"
   ]
  },
  {
   "cell_type": "markdown",
   "id": "52d8c6eb",
   "metadata": {
    "papermill": {
     "duration": 0.006846,
     "end_time": "2022-06-27T19:48:13.733490",
     "exception": false,
     "start_time": "2022-06-27T19:48:13.726644",
     "status": "completed"
    },
    "tags": []
   },
   "source": [
    "Both tables include references to a `MeetID`, a unique key for each meet (competition) included in the database. Using this, generate a dataset combining the two tables into one."
   ]
  },
  {
   "cell_type": "code",
   "execution_count": 11,
   "id": "5bdda8b2",
   "metadata": {
    "execution": {
     "iopub.execute_input": "2022-06-27T19:48:13.750254Z",
     "iopub.status.busy": "2022-06-27T19:48:13.749490Z",
     "iopub.status.idle": "2022-06-27T19:48:14.881014Z",
     "shell.execute_reply": "2022-06-27T19:48:14.878937Z"
    },
    "papermill": {
     "duration": 1.143043,
     "end_time": "2022-06-27T19:48:14.883727",
     "exception": false,
     "start_time": "2022-06-27T19:48:13.740684",
     "status": "completed"
    },
    "tags": []
   },
   "outputs": [
    {
     "data": {
      "application/javascript": [
       "parent.postMessage({\"jupyterEvent\": \"custom.exercise_interaction\", \"data\": {\"outcomeType\": 1, \"valueTowardsCompletion\": 0.25, \"interactionType\": 1, \"questionType\": 2, \"questionId\": \"4_JoinLifting\", \"learnToolsVersion\": \"0.3.4\", \"failureMessage\": \"\", \"exceptionClass\": \"\", \"trace\": \"\"}}, \"*\")"
      ],
      "text/plain": [
       "<IPython.core.display.Javascript object>"
      ]
     },
     "metadata": {},
     "output_type": "display_data"
    },
    {
     "data": {
      "text/markdown": [
       "<span style=\"color:#33cc33\">Correct</span>"
      ],
      "text/plain": [
       "Correct"
      ]
     },
     "metadata": {},
     "output_type": "display_data"
    }
   ],
   "source": [
    "left = powerlifting_meets.set_index('MeetID')\n",
    "right = powerlifting_competitors.set_index('MeetID')\n",
    "\n",
    "powerlifting_combined = left.join(right, lsuffix=\"MEETS_\", rsuffix=\"COM_\")\n",
    "\n",
    "# Check your answer\n",
    "q4.check()"
   ]
  },
  {
   "cell_type": "code",
   "execution_count": 12,
   "id": "43e91b47",
   "metadata": {
    "execution": {
     "iopub.execute_input": "2022-06-27T19:48:14.902939Z",
     "iopub.status.busy": "2022-06-27T19:48:14.902143Z",
     "iopub.status.idle": "2022-06-27T19:48:14.906762Z",
     "shell.execute_reply": "2022-06-27T19:48:14.905979Z"
    },
    "papermill": {
     "duration": 0.016766,
     "end_time": "2022-06-27T19:48:14.909104",
     "exception": false,
     "start_time": "2022-06-27T19:48:14.892338",
     "status": "completed"
    },
    "tags": []
   },
   "outputs": [],
   "source": [
    "#q4.hint()\n",
    "#q4.solution()"
   ]
  },
  {
   "cell_type": "markdown",
   "id": "49ed474a",
   "metadata": {
    "papermill": {
     "duration": 0.00714,
     "end_time": "2022-06-27T19:48:14.923813",
     "exception": false,
     "start_time": "2022-06-27T19:48:14.916673",
     "status": "completed"
    },
    "tags": []
   },
   "source": [
    "# Congratulations!\n",
    "\n",
    "You've finished the Pandas micro-course.  Many data scientists feel efficiency with Pandas is the most useful and practical skill they have, because it allows you to progress quickly in any project you have.\n",
    "\n",
    "If you'd like to apply your new skills to examining geospatial data, you're encouraged to check out our **[Geospatial Analysis](https://www.kaggle.com/learn/geospatial-analysis)** micro-course.\n",
    "\n",
    "You can also take advantage of your Pandas skills by entering a **[Kaggle Competition](https://www.kaggle.com/competitions)** or by answering a question you find interesting using **[Kaggle Datasets](https://www.kaggle.com/datasets)**."
   ]
  },
  {
   "cell_type": "markdown",
   "id": "59aa1edd",
   "metadata": {
    "papermill": {
     "duration": 0.008369,
     "end_time": "2022-06-27T19:48:14.939891",
     "exception": false,
     "start_time": "2022-06-27T19:48:14.931522",
     "status": "completed"
    },
    "tags": []
   },
   "source": [
    "---\n",
    "\n",
    "\n",
    "\n",
    "\n",
    "*Have questions or comments? Visit the [course discussion forum](https://www.kaggle.com/learn/pandas/discussion) to chat with other learners.*"
   ]
  }
 ],
 "metadata": {
  "kernelspec": {
   "display_name": "Python 3",
   "language": "python",
   "name": "python3"
  },
  "language_info": {
   "codemirror_mode": {
    "name": "ipython",
    "version": 3
   },
   "file_extension": ".py",
   "mimetype": "text/x-python",
   "name": "python",
   "nbconvert_exporter": "python",
   "pygments_lexer": "ipython3",
   "version": "3.7.12"
  },
  "papermill": {
   "default_parameters": {},
   "duration": 19.770378,
   "end_time": "2022-06-27T19:48:15.772811",
   "environment_variables": {},
   "exception": null,
   "input_path": "__notebook__.ipynb",
   "output_path": "__notebook__.ipynb",
   "parameters": {},
   "start_time": "2022-06-27T19:47:56.002433",
   "version": "2.3.4"
  }
 },
 "nbformat": 4,
 "nbformat_minor": 5
}
