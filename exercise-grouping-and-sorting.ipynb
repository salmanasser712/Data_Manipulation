{
 "cells": [
  {
   "cell_type": "markdown",
   "id": "47fe9483",
   "metadata": {
    "papermill": {
     "duration": 0.005927,
     "end_time": "2022-06-27T18:54:28.840975",
     "exception": false,
     "start_time": "2022-06-27T18:54:28.835048",
     "status": "completed"
    },
    "tags": []
   },
   "source": [
    "**This notebook is an exercise in the [Pandas](https://www.kaggle.com/learn/pandas) course.  You can reference the tutorial at [this link](https://www.kaggle.com/residentmario/grouping-and-sorting).**\n",
    "\n",
    "---\n"
   ]
  },
  {
   "cell_type": "markdown",
   "id": "7d336e23",
   "metadata": {
    "papermill": {
     "duration": 0.00464,
     "end_time": "2022-06-27T18:54:28.850781",
     "exception": false,
     "start_time": "2022-06-27T18:54:28.846141",
     "status": "completed"
    },
    "tags": []
   },
   "source": [
    "# Introduction\n",
    "\n",
    "In these exercises we'll apply groupwise analysis to our dataset.\n",
    "\n",
    "Run the code cell below to load the data before running the exercises."
   ]
  },
  {
   "cell_type": "code",
   "execution_count": 1,
   "id": "d1a871f7",
   "metadata": {
    "execution": {
     "iopub.execute_input": "2022-06-27T18:54:28.863760Z",
     "iopub.status.busy": "2022-06-27T18:54:28.862826Z",
     "iopub.status.idle": "2022-06-27T18:54:31.781863Z",
     "shell.execute_reply": "2022-06-27T18:54:31.780211Z"
    },
    "papermill": {
     "duration": 2.929332,
     "end_time": "2022-06-27T18:54:31.785011",
     "exception": false,
     "start_time": "2022-06-27T18:54:28.855679",
     "status": "completed"
    },
    "tags": []
   },
   "outputs": [
    {
     "name": "stdout",
     "output_type": "stream",
     "text": [
      "Setup complete.\n"
     ]
    }
   ],
   "source": [
    "import pandas as pd\n",
    "\n",
    "reviews = pd.read_csv(\"../input/wine-reviews/winemag-data-130k-v2.csv\", index_col=0)\n",
    "#pd.set_option(\"display.max_rows\", 5)\n",
    "\n",
    "from learntools.core import binder; binder.bind(globals())\n",
    "from learntools.pandas.grouping_and_sorting import *\n",
    "print(\"Setup complete.\")"
   ]
  },
  {
   "cell_type": "markdown",
   "id": "baa7b94f",
   "metadata": {
    "papermill": {
     "duration": 0.004927,
     "end_time": "2022-06-27T18:54:31.795252",
     "exception": false,
     "start_time": "2022-06-27T18:54:31.790325",
     "status": "completed"
    },
    "tags": []
   },
   "source": [
    "# Exercises"
   ]
  },
  {
   "cell_type": "markdown",
   "id": "106830a2",
   "metadata": {
    "papermill": {
     "duration": 0.004955,
     "end_time": "2022-06-27T18:54:31.805229",
     "exception": false,
     "start_time": "2022-06-27T18:54:31.800274",
     "status": "completed"
    },
    "tags": []
   },
   "source": [
    "## 1.\n",
    "Who are the most common wine reviewers in the dataset? Create a `Series` whose index is the `taster_twitter_handle` category from the dataset, and whose values count how many reviews each person wrote."
   ]
  },
  {
   "cell_type": "code",
   "execution_count": 2,
   "id": "05222685",
   "metadata": {
    "execution": {
     "iopub.execute_input": "2022-06-27T18:54:31.817301Z",
     "iopub.status.busy": "2022-06-27T18:54:31.816885Z",
     "iopub.status.idle": "2022-06-27T18:54:31.848445Z",
     "shell.execute_reply": "2022-06-27T18:54:31.847391Z"
    },
    "papermill": {
     "duration": 0.041937,
     "end_time": "2022-06-27T18:54:31.852223",
     "exception": false,
     "start_time": "2022-06-27T18:54:31.810286",
     "status": "completed"
    },
    "tags": []
   },
   "outputs": [
    {
     "data": {
      "application/javascript": [
       "parent.postMessage({\"jupyterEvent\": \"custom.exercise_interaction\", \"data\": {\"outcomeType\": 1, \"valueTowardsCompletion\": 0.16666666666666666, \"interactionType\": 1, \"questionType\": 1, \"questionId\": \"1_ReviewsWritten\", \"learnToolsVersion\": \"0.3.4\", \"failureMessage\": \"\", \"exceptionClass\": \"\", \"trace\": \"\"}}, \"*\")"
      ],
      "text/plain": [
       "<IPython.core.display.Javascript object>"
      ]
     },
     "metadata": {},
     "output_type": "display_data"
    },
    {
     "data": {
      "text/markdown": [
       "<span style=\"color:#33cc33\">Correct:</span> \n",
       "\n",
       "\n",
       "```python\n",
       "reviews_written = reviews.groupby('taster_twitter_handle').size()\n",
       "```\n",
       "or\n",
       "```python\n",
       "reviews_written = reviews.groupby('taster_twitter_handle').taster_twitter_handle.count()\n",
       "```\n"
      ],
      "text/plain": [
       "Correct: \n",
       "\n",
       "\n",
       "```python\n",
       "reviews_written = reviews.groupby('taster_twitter_handle').size()\n",
       "```\n",
       "or\n",
       "```python\n",
       "reviews_written = reviews.groupby('taster_twitter_handle').taster_twitter_handle.count()\n",
       "```"
      ]
     },
     "metadata": {},
     "output_type": "display_data"
    }
   ],
   "source": [
    "# Your code here\n",
    "reviews_written = reviews.groupby('taster_twitter_handle').taster_twitter_handle.count()\n",
    "\n",
    "# Check your answer\n",
    "q1.check()"
   ]
  },
  {
   "cell_type": "code",
   "execution_count": 3,
   "id": "92aa0e36",
   "metadata": {
    "execution": {
     "iopub.execute_input": "2022-06-27T18:54:31.864693Z",
     "iopub.status.busy": "2022-06-27T18:54:31.864213Z",
     "iopub.status.idle": "2022-06-27T18:54:31.870273Z",
     "shell.execute_reply": "2022-06-27T18:54:31.868584Z"
    },
    "papermill": {
     "duration": 0.015285,
     "end_time": "2022-06-27T18:54:31.872908",
     "exception": false,
     "start_time": "2022-06-27T18:54:31.857623",
     "status": "completed"
    },
    "tags": []
   },
   "outputs": [],
   "source": [
    "#q1.hint()\n",
    "#q1.solution()"
   ]
  },
  {
   "cell_type": "markdown",
   "id": "08e2e28f",
   "metadata": {
    "papermill": {
     "duration": 0.005303,
     "end_time": "2022-06-27T18:54:31.883605",
     "exception": false,
     "start_time": "2022-06-27T18:54:31.878302",
     "status": "completed"
    },
    "tags": []
   },
   "source": [
    "## 2.\n",
    "What is the best wine I can buy for a given amount of money? Create a `Series` whose index is wine prices and whose values is the maximum number of points a wine costing that much was given in a review. Sort the values by price, ascending (so that `4.0` dollars is at the top and `3300.0` dollars is at the bottom)."
   ]
  },
  {
   "cell_type": "code",
   "execution_count": 4,
   "id": "69404765",
   "metadata": {
    "execution": {
     "iopub.execute_input": "2022-06-27T18:54:31.896870Z",
     "iopub.status.busy": "2022-06-27T18:54:31.896006Z",
     "iopub.status.idle": "2022-06-27T18:54:31.912799Z",
     "shell.execute_reply": "2022-06-27T18:54:31.911594Z"
    },
    "papermill": {
     "duration": 0.026249,
     "end_time": "2022-06-27T18:54:31.915167",
     "exception": false,
     "start_time": "2022-06-27T18:54:31.888918",
     "status": "completed"
    },
    "tags": []
   },
   "outputs": [
    {
     "data": {
      "application/javascript": [
       "parent.postMessage({\"jupyterEvent\": \"custom.exercise_interaction\", \"data\": {\"outcomeType\": 1, \"valueTowardsCompletion\": 0.16666666666666666, \"interactionType\": 1, \"questionType\": 1, \"questionId\": \"2_BestRatingPerPrice\", \"learnToolsVersion\": \"0.3.4\", \"failureMessage\": \"\", \"exceptionClass\": \"\", \"trace\": \"\"}}, \"*\")"
      ],
      "text/plain": [
       "<IPython.core.display.Javascript object>"
      ]
     },
     "metadata": {},
     "output_type": "display_data"
    },
    {
     "data": {
      "text/markdown": [
       "<span style=\"color:#33cc33\">Correct</span>"
      ],
      "text/plain": [
       "Correct"
      ]
     },
     "metadata": {},
     "output_type": "display_data"
    }
   ],
   "source": [
    "\n",
    "best_rating_per_price = reviews.groupby('price').points.max().sort_index()\n",
    "# Check your answer\n",
    "q2.check()"
   ]
  },
  {
   "cell_type": "code",
   "execution_count": 5,
   "id": "a867f571",
   "metadata": {
    "execution": {
     "iopub.execute_input": "2022-06-27T18:54:31.929050Z",
     "iopub.status.busy": "2022-06-27T18:54:31.928163Z",
     "iopub.status.idle": "2022-06-27T18:54:31.936953Z",
     "shell.execute_reply": "2022-06-27T18:54:31.935903Z"
    },
    "papermill": {
     "duration": 0.018145,
     "end_time": "2022-06-27T18:54:31.939137",
     "exception": false,
     "start_time": "2022-06-27T18:54:31.920992",
     "status": "completed"
    },
    "tags": []
   },
   "outputs": [
    {
     "data": {
      "application/javascript": [
       "parent.postMessage({\"jupyterEvent\": \"custom.exercise_interaction\", \"data\": {\"interactionType\": 2, \"questionType\": 1, \"questionId\": \"2_BestRatingPerPrice\", \"learnToolsVersion\": \"0.3.4\", \"valueTowardsCompletion\": 0.0, \"failureMessage\": \"\", \"exceptionClass\": \"\", \"trace\": \"\", \"outcomeType\": 4}}, \"*\")"
      ],
      "text/plain": [
       "<IPython.core.display.Javascript object>"
      ]
     },
     "metadata": {},
     "output_type": "display_data"
    },
    {
     "data": {
      "text/markdown": [
       "<span style=\"color:#3366cc\">Hint:</span> Use `max()` and `sort_index()`.  The relevant columns in the DataFrame are `price` and `points`."
      ],
      "text/plain": [
       "Hint: Use `max()` and `sort_index()`.  The relevant columns in the DataFrame are `price` and `points`."
      ]
     },
     "metadata": {},
     "output_type": "display_data"
    }
   ],
   "source": [
    "q2.hint()\n",
    "#q2.solution()"
   ]
  },
  {
   "cell_type": "markdown",
   "id": "21514e97",
   "metadata": {
    "papermill": {
     "duration": 0.005429,
     "end_time": "2022-06-27T18:54:31.950145",
     "exception": false,
     "start_time": "2022-06-27T18:54:31.944716",
     "status": "completed"
    },
    "tags": []
   },
   "source": [
    "## 3.\n",
    "What are the minimum and maximum prices for each `variety` of wine? Create a `DataFrame` whose index is the `variety` category from the dataset and whose values are the `min` and `max` values thereof."
   ]
  },
  {
   "cell_type": "code",
   "execution_count": 6,
   "id": "6f0fcd45",
   "metadata": {
    "execution": {
     "iopub.execute_input": "2022-06-27T18:54:31.964710Z",
     "iopub.status.busy": "2022-06-27T18:54:31.963367Z",
     "iopub.status.idle": "2022-06-27T18:54:31.993699Z",
     "shell.execute_reply": "2022-06-27T18:54:31.992748Z"
    },
    "papermill": {
     "duration": 0.039763,
     "end_time": "2022-06-27T18:54:31.996059",
     "exception": false,
     "start_time": "2022-06-27T18:54:31.956296",
     "status": "completed"
    },
    "tags": []
   },
   "outputs": [
    {
     "data": {
      "application/javascript": [
       "parent.postMessage({\"jupyterEvent\": \"custom.exercise_interaction\", \"data\": {\"outcomeType\": 1, \"valueTowardsCompletion\": 0.16666666666666666, \"interactionType\": 1, \"questionType\": 1, \"questionId\": \"3_PriceExtremes\", \"learnToolsVersion\": \"0.3.4\", \"failureMessage\": \"\", \"exceptionClass\": \"\", \"trace\": \"\"}}, \"*\")"
      ],
      "text/plain": [
       "<IPython.core.display.Javascript object>"
      ]
     },
     "metadata": {},
     "output_type": "display_data"
    },
    {
     "data": {
      "text/markdown": [
       "<span style=\"color:#33cc33\">Correct</span>"
      ],
      "text/plain": [
       "Correct"
      ]
     },
     "metadata": {},
     "output_type": "display_data"
    }
   ],
   "source": [
    "price_extremes = reviews.groupby('variety').price.agg([min, max])\n",
    "\n",
    "# Check your answer\n",
    "q3.check()"
   ]
  },
  {
   "cell_type": "code",
   "execution_count": 7,
   "id": "3729882f",
   "metadata": {
    "execution": {
     "iopub.execute_input": "2022-06-27T18:54:32.010313Z",
     "iopub.status.busy": "2022-06-27T18:54:32.009111Z",
     "iopub.status.idle": "2022-06-27T18:54:32.014709Z",
     "shell.execute_reply": "2022-06-27T18:54:32.013807Z"
    },
    "papermill": {
     "duration": 0.015237,
     "end_time": "2022-06-27T18:54:32.017140",
     "exception": false,
     "start_time": "2022-06-27T18:54:32.001903",
     "status": "completed"
    },
    "tags": []
   },
   "outputs": [],
   "source": [
    "#q3.hint()\n",
    "#q3.solution()"
   ]
  },
  {
   "cell_type": "markdown",
   "id": "4523f168",
   "metadata": {
    "papermill": {
     "duration": 0.005586,
     "end_time": "2022-06-27T18:54:32.029038",
     "exception": false,
     "start_time": "2022-06-27T18:54:32.023452",
     "status": "completed"
    },
    "tags": []
   },
   "source": [
    "## 4.\n",
    "What are the most expensive wine varieties? Create a variable `sorted_varieties` containing a copy of the dataframe from the previous question where varieties are sorted in descending order based on minimum price, then on maximum price (to break ties)."
   ]
  },
  {
   "cell_type": "code",
   "execution_count": 8,
   "id": "6b3cc011",
   "metadata": {
    "execution": {
     "iopub.execute_input": "2022-06-27T18:54:32.044319Z",
     "iopub.status.busy": "2022-06-27T18:54:32.042975Z",
     "iopub.status.idle": "2022-06-27T18:54:32.056164Z",
     "shell.execute_reply": "2022-06-27T18:54:32.054976Z"
    },
    "papermill": {
     "duration": 0.023443,
     "end_time": "2022-06-27T18:54:32.058828",
     "exception": false,
     "start_time": "2022-06-27T18:54:32.035385",
     "status": "completed"
    },
    "tags": []
   },
   "outputs": [
    {
     "data": {
      "application/javascript": [
       "parent.postMessage({\"jupyterEvent\": \"custom.exercise_interaction\", \"data\": {\"outcomeType\": 1, \"valueTowardsCompletion\": 0.16666666666666666, \"interactionType\": 1, \"questionType\": 1, \"questionId\": \"4_SortedVarieties\", \"learnToolsVersion\": \"0.3.4\", \"failureMessage\": \"\", \"exceptionClass\": \"\", \"trace\": \"\"}}, \"*\")"
      ],
      "text/plain": [
       "<IPython.core.display.Javascript object>"
      ]
     },
     "metadata": {},
     "output_type": "display_data"
    },
    {
     "data": {
      "text/markdown": [
       "<span style=\"color:#33cc33\">Correct</span>"
      ],
      "text/plain": [
       "Correct"
      ]
     },
     "metadata": {},
     "output_type": "display_data"
    }
   ],
   "source": [
    "sorted_varieties = price_extremes.sort_values(by=['min', 'max'], ascending=False)\n",
    "\n",
    "# Check your answer\n",
    "q4.check()"
   ]
  },
  {
   "cell_type": "code",
   "execution_count": 9,
   "id": "5e26efd2",
   "metadata": {
    "execution": {
     "iopub.execute_input": "2022-06-27T18:54:32.075994Z",
     "iopub.status.busy": "2022-06-27T18:54:32.074947Z",
     "iopub.status.idle": "2022-06-27T18:54:32.080670Z",
     "shell.execute_reply": "2022-06-27T18:54:32.079235Z"
    },
    "papermill": {
     "duration": 0.016807,
     "end_time": "2022-06-27T18:54:32.083031",
     "exception": false,
     "start_time": "2022-06-27T18:54:32.066224",
     "status": "completed"
    },
    "tags": []
   },
   "outputs": [],
   "source": [
    "#q4.hint()\n",
    "#q4.solution()"
   ]
  },
  {
   "cell_type": "markdown",
   "id": "a7c21090",
   "metadata": {
    "papermill": {
     "duration": 0.00665,
     "end_time": "2022-06-27T18:54:32.096370",
     "exception": false,
     "start_time": "2022-06-27T18:54:32.089720",
     "status": "completed"
    },
    "tags": []
   },
   "source": [
    "## 5.\n",
    "Create a `Series` whose index is reviewers and whose values is the average review score given out by that reviewer. Hint: you will need the `taster_name` and `points` columns."
   ]
  },
  {
   "cell_type": "code",
   "execution_count": 10,
   "id": "080a6f26",
   "metadata": {
    "execution": {
     "iopub.execute_input": "2022-06-27T18:54:32.111366Z",
     "iopub.status.busy": "2022-06-27T18:54:32.110510Z",
     "iopub.status.idle": "2022-06-27T18:54:32.132191Z",
     "shell.execute_reply": "2022-06-27T18:54:32.130772Z"
    },
    "papermill": {
     "duration": 0.03182,
     "end_time": "2022-06-27T18:54:32.134566",
     "exception": false,
     "start_time": "2022-06-27T18:54:32.102746",
     "status": "completed"
    },
    "tags": []
   },
   "outputs": [
    {
     "data": {
      "application/javascript": [
       "parent.postMessage({\"jupyterEvent\": \"custom.exercise_interaction\", \"data\": {\"outcomeType\": 1, \"valueTowardsCompletion\": 0.16666666666666666, \"interactionType\": 1, \"questionType\": 1, \"questionId\": \"5_ReviewerMeanRatings\", \"learnToolsVersion\": \"0.3.4\", \"failureMessage\": \"\", \"exceptionClass\": \"\", \"trace\": \"\"}}, \"*\")"
      ],
      "text/plain": [
       "<IPython.core.display.Javascript object>"
      ]
     },
     "metadata": {},
     "output_type": "display_data"
    },
    {
     "data": {
      "text/markdown": [
       "<span style=\"color:#33cc33\">Correct</span>"
      ],
      "text/plain": [
       "Correct"
      ]
     },
     "metadata": {},
     "output_type": "display_data"
    }
   ],
   "source": [
    "reviewer_mean_ratings = reviews.groupby('taster_name').points.agg('mean')\n",
    "\n",
    "# Check your answer\n",
    "q5.check()"
   ]
  },
  {
   "cell_type": "code",
   "execution_count": 11,
   "id": "5f864e3c",
   "metadata": {
    "execution": {
     "iopub.execute_input": "2022-06-27T18:54:32.150079Z",
     "iopub.status.busy": "2022-06-27T18:54:32.149265Z",
     "iopub.status.idle": "2022-06-27T18:54:32.153509Z",
     "shell.execute_reply": "2022-06-27T18:54:32.152734Z"
    },
    "papermill": {
     "duration": 0.014139,
     "end_time": "2022-06-27T18:54:32.155518",
     "exception": false,
     "start_time": "2022-06-27T18:54:32.141379",
     "status": "completed"
    },
    "tags": []
   },
   "outputs": [],
   "source": [
    "#q5.hint()\n",
    "#q5.solution()"
   ]
  },
  {
   "cell_type": "markdown",
   "id": "bc114d5e",
   "metadata": {
    "papermill": {
     "duration": 0.005833,
     "end_time": "2022-06-27T18:54:32.167870",
     "exception": false,
     "start_time": "2022-06-27T18:54:32.162037",
     "status": "completed"
    },
    "tags": []
   },
   "source": [
    "Are there significant differences in the average scores assigned by the various reviewers? Run the cell below to use the `describe()` method to see a summary of the range of values."
   ]
  },
  {
   "cell_type": "code",
   "execution_count": 12,
   "id": "6bb4067a",
   "metadata": {
    "execution": {
     "iopub.execute_input": "2022-06-27T18:54:32.183619Z",
     "iopub.status.busy": "2022-06-27T18:54:32.182511Z",
     "iopub.status.idle": "2022-06-27T18:54:32.197646Z",
     "shell.execute_reply": "2022-06-27T18:54:32.196425Z"
    },
    "papermill": {
     "duration": 0.026407,
     "end_time": "2022-06-27T18:54:32.200434",
     "exception": false,
     "start_time": "2022-06-27T18:54:32.174027",
     "status": "completed"
    },
    "tags": []
   },
   "outputs": [
    {
     "data": {
      "text/plain": [
       "count    19.000000\n",
       "mean     88.233026\n",
       "std       1.243610\n",
       "min      85.855422\n",
       "25%      87.323501\n",
       "50%      88.536235\n",
       "75%      88.975256\n",
       "max      90.562551\n",
       "Name: points, dtype: float64"
      ]
     },
     "execution_count": 12,
     "metadata": {},
     "output_type": "execute_result"
    }
   ],
   "source": [
    "reviewer_mean_ratings.describe()"
   ]
  },
  {
   "cell_type": "markdown",
   "id": "80c73e7a",
   "metadata": {
    "papermill": {
     "duration": 0.006163,
     "end_time": "2022-06-27T18:54:32.213757",
     "exception": false,
     "start_time": "2022-06-27T18:54:32.207594",
     "status": "completed"
    },
    "tags": []
   },
   "source": [
    "## 6.\n",
    "What combination of countries and varieties are most common? Create a `Series` whose index is a `MultiIndex`of `{country, variety}` pairs. For example, a pinot noir produced in the US should map to `{\"US\", \"Pinot Noir\"}`. Sort the values in the `Series` in descending order based on wine count."
   ]
  },
  {
   "cell_type": "code",
   "execution_count": 13,
   "id": "88ec3262",
   "metadata": {
    "execution": {
     "iopub.execute_input": "2022-06-27T18:54:32.229729Z",
     "iopub.status.busy": "2022-06-27T18:54:32.228988Z",
     "iopub.status.idle": "2022-06-27T18:54:32.266189Z",
     "shell.execute_reply": "2022-06-27T18:54:32.265163Z"
    },
    "papermill": {
     "duration": 0.048417,
     "end_time": "2022-06-27T18:54:32.268771",
     "exception": false,
     "start_time": "2022-06-27T18:54:32.220354",
     "status": "completed"
    },
    "tags": []
   },
   "outputs": [
    {
     "data": {
      "application/javascript": [
       "parent.postMessage({\"jupyterEvent\": \"custom.exercise_interaction\", \"data\": {\"outcomeType\": 1, \"valueTowardsCompletion\": 0.16666666666666666, \"interactionType\": 1, \"questionType\": 1, \"questionId\": \"6_GroupbyCountryVariety\", \"learnToolsVersion\": \"0.3.4\", \"failureMessage\": \"\", \"exceptionClass\": \"\", \"trace\": \"\"}}, \"*\")"
      ],
      "text/plain": [
       "<IPython.core.display.Javascript object>"
      ]
     },
     "metadata": {},
     "output_type": "display_data"
    },
    {
     "data": {
      "text/markdown": [
       "<span style=\"color:#33cc33\">Correct</span>"
      ],
      "text/plain": [
       "Correct"
      ]
     },
     "metadata": {},
     "output_type": "display_data"
    }
   ],
   "source": [
    "temp = reviews.groupby(['country', 'variety']).size().sort_values(ascending=False)\n",
    "country_variety_counts = temp\n",
    "\n",
    "# Check your answer\n",
    "q6.check()"
   ]
  },
  {
   "cell_type": "code",
   "execution_count": 14,
   "id": "d68b63d5",
   "metadata": {
    "execution": {
     "iopub.execute_input": "2022-06-27T18:54:32.284912Z",
     "iopub.status.busy": "2022-06-27T18:54:32.283979Z",
     "iopub.status.idle": "2022-06-27T18:54:32.289197Z",
     "shell.execute_reply": "2022-06-27T18:54:32.288183Z"
    },
    "papermill": {
     "duration": 0.01606,
     "end_time": "2022-06-27T18:54:32.291418",
     "exception": false,
     "start_time": "2022-06-27T18:54:32.275358",
     "status": "completed"
    },
    "tags": []
   },
   "outputs": [],
   "source": [
    "#q6.hint()\n",
    "#q6.solution()"
   ]
  },
  {
   "cell_type": "markdown",
   "id": "01d389e1",
   "metadata": {
    "papermill": {
     "duration": 0.006314,
     "end_time": "2022-06-27T18:54:32.304830",
     "exception": false,
     "start_time": "2022-06-27T18:54:32.298516",
     "status": "completed"
    },
    "tags": []
   },
   "source": [
    "# Keep going\n",
    "\n",
    "Move on to the [**data types and missing data**](https://www.kaggle.com/residentmario/data-types-and-missing-values)."
   ]
  },
  {
   "cell_type": "markdown",
   "id": "822da76a",
   "metadata": {
    "papermill": {
     "duration": 0.006071,
     "end_time": "2022-06-27T18:54:32.317366",
     "exception": false,
     "start_time": "2022-06-27T18:54:32.311295",
     "status": "completed"
    },
    "tags": []
   },
   "source": [
    "---\n",
    "\n",
    "\n",
    "\n",
    "\n",
    "*Have questions or comments? Visit the [course discussion forum](https://www.kaggle.com/learn/pandas/discussion) to chat with other learners.*"
   ]
  }
 ],
 "metadata": {
  "kernelspec": {
   "display_name": "Python 3",
   "language": "python",
   "name": "python3"
  },
  "language_info": {
   "codemirror_mode": {
    "name": "ipython",
    "version": 3
   },
   "file_extension": ".py",
   "mimetype": "text/x-python",
   "name": "python",
   "nbconvert_exporter": "python",
   "pygments_lexer": "ipython3",
   "version": "3.7.12"
  },
  "papermill": {
   "default_parameters": {},
   "duration": 13.987481,
   "end_time": "2022-06-27T18:54:33.046607",
   "environment_variables": {},
   "exception": null,
   "input_path": "__notebook__.ipynb",
   "output_path": "__notebook__.ipynb",
   "parameters": {},
   "start_time": "2022-06-27T18:54:19.059126",
   "version": "2.3.4"
  }
 },
 "nbformat": 4,
 "nbformat_minor": 5
}
