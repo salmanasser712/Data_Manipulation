{
 "cells": [
  {
   "cell_type": "markdown",
   "id": "0023393f",
   "metadata": {
    "papermill": {
     "duration": 0.005578,
     "end_time": "2022-06-27T19:15:22.559183",
     "exception": false,
     "start_time": "2022-06-27T19:15:22.553605",
     "status": "completed"
    },
    "tags": []
   },
   "source": [
    "**This notebook is an exercise in the [Pandas](https://www.kaggle.com/learn/pandas) course.  You can reference the tutorial at [this link](https://www.kaggle.com/residentmario/data-types-and-missing-values).**\n",
    "\n",
    "---\n"
   ]
  },
  {
   "cell_type": "markdown",
   "id": "b1307742",
   "metadata": {
    "papermill": {
     "duration": 0.004262,
     "end_time": "2022-06-27T19:15:22.568230",
     "exception": false,
     "start_time": "2022-06-27T19:15:22.563968",
     "status": "completed"
    },
    "tags": []
   },
   "source": [
    "# Introduction\n",
    "\n",
    "Run the following cell to load your data and some utility functions."
   ]
  },
  {
   "cell_type": "code",
   "execution_count": 1,
   "id": "eaabc321",
   "metadata": {
    "execution": {
     "iopub.execute_input": "2022-06-27T19:15:22.580142Z",
     "iopub.status.busy": "2022-06-27T19:15:22.579133Z",
     "iopub.status.idle": "2022-06-27T19:15:25.445204Z",
     "shell.execute_reply": "2022-06-27T19:15:25.443959Z"
    },
    "papermill": {
     "duration": 2.87531,
     "end_time": "2022-06-27T19:15:25.448023",
     "exception": false,
     "start_time": "2022-06-27T19:15:22.572713",
     "status": "completed"
    },
    "tags": []
   },
   "outputs": [
    {
     "name": "stdout",
     "output_type": "stream",
     "text": [
      "Setup complete.\n"
     ]
    }
   ],
   "source": [
    "import pandas as pd\n",
    "\n",
    "reviews = pd.read_csv(\"../input/wine-reviews/winemag-data-130k-v2.csv\", index_col=0)\n",
    "\n",
    "from learntools.core import binder; binder.bind(globals())\n",
    "from learntools.pandas.data_types_and_missing_data import *\n",
    "print(\"Setup complete.\")"
   ]
  },
  {
   "cell_type": "markdown",
   "id": "8ca6c9d3",
   "metadata": {
    "papermill": {
     "duration": 0.004888,
     "end_time": "2022-06-27T19:15:25.457898",
     "exception": false,
     "start_time": "2022-06-27T19:15:25.453010",
     "status": "completed"
    },
    "tags": []
   },
   "source": [
    "# Exercises"
   ]
  },
  {
   "cell_type": "markdown",
   "id": "9f445e1d",
   "metadata": {
    "papermill": {
     "duration": 0.00455,
     "end_time": "2022-06-27T19:15:25.467261",
     "exception": false,
     "start_time": "2022-06-27T19:15:25.462711",
     "status": "completed"
    },
    "tags": []
   },
   "source": [
    "## 1. \n",
    "What is the data type of the `points` column in the dataset?"
   ]
  },
  {
   "cell_type": "code",
   "execution_count": 2,
   "id": "dd06febe",
   "metadata": {
    "execution": {
     "iopub.execute_input": "2022-06-27T19:15:25.478798Z",
     "iopub.status.busy": "2022-06-27T19:15:25.478098Z",
     "iopub.status.idle": "2022-06-27T19:15:25.488216Z",
     "shell.execute_reply": "2022-06-27T19:15:25.487389Z"
    },
    "papermill": {
     "duration": 0.018475,
     "end_time": "2022-06-27T19:15:25.490394",
     "exception": false,
     "start_time": "2022-06-27T19:15:25.471919",
     "status": "completed"
    },
    "tags": []
   },
   "outputs": [
    {
     "data": {
      "application/javascript": [
       "parent.postMessage({\"jupyterEvent\": \"custom.exercise_interaction\", \"data\": {\"outcomeType\": 1, \"valueTowardsCompletion\": 0.25, \"interactionType\": 1, \"questionType\": 1, \"questionId\": \"1_PointsDtype\", \"learnToolsVersion\": \"0.3.4\", \"failureMessage\": \"\", \"exceptionClass\": \"\", \"trace\": \"\"}}, \"*\")"
      ],
      "text/plain": [
       "<IPython.core.display.Javascript object>"
      ]
     },
     "metadata": {},
     "output_type": "display_data"
    },
    {
     "data": {
      "text/markdown": [
       "<span style=\"color:#33cc33\">Correct</span>"
      ],
      "text/plain": [
       "Correct"
      ]
     },
     "metadata": {},
     "output_type": "display_data"
    }
   ],
   "source": [
    "# Your code here\n",
    "dtype = reviews.points.dtype\n",
    "\n",
    "# Check your answer\n",
    "q1.check()"
   ]
  },
  {
   "cell_type": "code",
   "execution_count": 3,
   "id": "78c373b7",
   "metadata": {
    "execution": {
     "iopub.execute_input": "2022-06-27T19:15:25.502704Z",
     "iopub.status.busy": "2022-06-27T19:15:25.502036Z",
     "iopub.status.idle": "2022-06-27T19:15:25.505880Z",
     "shell.execute_reply": "2022-06-27T19:15:25.505147Z"
    },
    "papermill": {
     "duration": 0.012369,
     "end_time": "2022-06-27T19:15:25.507943",
     "exception": false,
     "start_time": "2022-06-27T19:15:25.495574",
     "status": "completed"
    },
    "tags": []
   },
   "outputs": [],
   "source": [
    "#q1.hint()\n",
    "#q1.solution()"
   ]
  },
  {
   "cell_type": "markdown",
   "id": "8c4640f7",
   "metadata": {
    "papermill": {
     "duration": 0.004806,
     "end_time": "2022-06-27T19:15:25.518138",
     "exception": false,
     "start_time": "2022-06-27T19:15:25.513332",
     "status": "completed"
    },
    "tags": []
   },
   "source": [
    "## 2. \n",
    "Create a Series from entries in the `points` column, but convert the entries to strings. Hint: strings are `str` in native Python."
   ]
  },
  {
   "cell_type": "code",
   "execution_count": 4,
   "id": "4425da97",
   "metadata": {
    "execution": {
     "iopub.execute_input": "2022-06-27T19:15:25.530324Z",
     "iopub.status.busy": "2022-06-27T19:15:25.529684Z",
     "iopub.status.idle": "2022-06-27T19:15:25.666966Z",
     "shell.execute_reply": "2022-06-27T19:15:25.665908Z"
    },
    "papermill": {
     "duration": 0.145848,
     "end_time": "2022-06-27T19:15:25.669230",
     "exception": false,
     "start_time": "2022-06-27T19:15:25.523382",
     "status": "completed"
    },
    "tags": []
   },
   "outputs": [
    {
     "data": {
      "application/javascript": [
       "parent.postMessage({\"jupyterEvent\": \"custom.exercise_interaction\", \"data\": {\"outcomeType\": 1, \"valueTowardsCompletion\": 0.25, \"interactionType\": 1, \"questionType\": 1, \"questionId\": \"2_StrPoints\", \"learnToolsVersion\": \"0.3.4\", \"failureMessage\": \"\", \"exceptionClass\": \"\", \"trace\": \"\"}}, \"*\")"
      ],
      "text/plain": [
       "<IPython.core.display.Javascript object>"
      ]
     },
     "metadata": {},
     "output_type": "display_data"
    },
    {
     "data": {
      "text/markdown": [
       "<span style=\"color:#33cc33\">Correct</span>"
      ],
      "text/plain": [
       "Correct"
      ]
     },
     "metadata": {},
     "output_type": "display_data"
    }
   ],
   "source": [
    "point_strings = reviews.points.astype('str')\n",
    "\n",
    "# Check your answer\n",
    "q2.check()"
   ]
  },
  {
   "cell_type": "code",
   "execution_count": 5,
   "id": "fccc422b",
   "metadata": {
    "execution": {
     "iopub.execute_input": "2022-06-27T19:15:25.681624Z",
     "iopub.status.busy": "2022-06-27T19:15:25.681241Z",
     "iopub.status.idle": "2022-06-27T19:15:25.685299Z",
     "shell.execute_reply": "2022-06-27T19:15:25.684291Z"
    },
    "papermill": {
     "duration": 0.012923,
     "end_time": "2022-06-27T19:15:25.687578",
     "exception": false,
     "start_time": "2022-06-27T19:15:25.674655",
     "status": "completed"
    },
    "tags": []
   },
   "outputs": [],
   "source": [
    "#q2.hint()\n",
    "#q2.solution()"
   ]
  },
  {
   "cell_type": "markdown",
   "id": "c082d948",
   "metadata": {
    "papermill": {
     "duration": 0.005007,
     "end_time": "2022-06-27T19:15:25.698072",
     "exception": false,
     "start_time": "2022-06-27T19:15:25.693065",
     "status": "completed"
    },
    "tags": []
   },
   "source": [
    "## 3.\n",
    "Sometimes the price column is null. How many reviews in the dataset are missing a price?"
   ]
  },
  {
   "cell_type": "code",
   "execution_count": 6,
   "id": "b826ad2b",
   "metadata": {
    "execution": {
     "iopub.execute_input": "2022-06-27T19:15:25.710721Z",
     "iopub.status.busy": "2022-06-27T19:15:25.709771Z",
     "iopub.status.idle": "2022-06-27T19:15:25.725183Z",
     "shell.execute_reply": "2022-06-27T19:15:25.724433Z"
    },
    "papermill": {
     "duration": 0.02381,
     "end_time": "2022-06-27T19:15:25.727193",
     "exception": false,
     "start_time": "2022-06-27T19:15:25.703383",
     "status": "completed"
    },
    "tags": []
   },
   "outputs": [
    {
     "data": {
      "application/javascript": [
       "parent.postMessage({\"jupyterEvent\": \"custom.exercise_interaction\", \"data\": {\"outcomeType\": 1, \"valueTowardsCompletion\": 0.25, \"interactionType\": 1, \"questionType\": 1, \"questionId\": \"3_CountMissingPrices\", \"learnToolsVersion\": \"0.3.4\", \"failureMessage\": \"\", \"exceptionClass\": \"\", \"trace\": \"\"}}, \"*\")"
      ],
      "text/plain": [
       "<IPython.core.display.Javascript object>"
      ]
     },
     "metadata": {},
     "output_type": "display_data"
    },
    {
     "data": {
      "text/markdown": [
       "<span style=\"color:#33cc33\">Correct</span>"
      ],
      "text/plain": [
       "Correct"
      ]
     },
     "metadata": {},
     "output_type": "display_data"
    }
   ],
   "source": [
    "n_missing_prices = reviews[pd.isnull(reviews.price)].shape[0]\n",
    "\n",
    "# Check your answer\n",
    "q3.check()"
   ]
  },
  {
   "cell_type": "code",
   "execution_count": 7,
   "id": "b29ecbb3",
   "metadata": {
    "execution": {
     "iopub.execute_input": "2022-06-27T19:15:25.740146Z",
     "iopub.status.busy": "2022-06-27T19:15:25.739534Z",
     "iopub.status.idle": "2022-06-27T19:15:25.743442Z",
     "shell.execute_reply": "2022-06-27T19:15:25.742527Z"
    },
    "papermill": {
     "duration": 0.012787,
     "end_time": "2022-06-27T19:15:25.745486",
     "exception": false,
     "start_time": "2022-06-27T19:15:25.732699",
     "status": "completed"
    },
    "tags": []
   },
   "outputs": [],
   "source": [
    "#q3.hint()\n",
    "#q3.solution()"
   ]
  },
  {
   "cell_type": "markdown",
   "id": "4041c68a",
   "metadata": {
    "papermill": {
     "duration": 0.005738,
     "end_time": "2022-06-27T19:15:25.756818",
     "exception": false,
     "start_time": "2022-06-27T19:15:25.751080",
     "status": "completed"
    },
    "tags": []
   },
   "source": [
    "## 4.\n",
    "What are the most common wine-producing regions? Create a Series counting the number of times each value occurs in the `region_1` field. This field is often missing data, so replace missing values with `Unknown`. Sort in descending order.  Your output should look something like this:\n",
    "\n",
    "```\n",
    "Unknown                    21247\n",
    "Napa Valley                 4480\n",
    "                           ...  \n",
    "Bardolino Superiore            1\n",
    "Primitivo del Tarantino        1\n",
    "Name: region_1, Length: 1230, dtype: int64\n",
    "```"
   ]
  },
  {
   "cell_type": "code",
   "execution_count": 8,
   "id": "cd22ded9",
   "metadata": {
    "execution": {
     "iopub.execute_input": "2022-06-27T19:15:25.770232Z",
     "iopub.status.busy": "2022-06-27T19:15:25.769535Z",
     "iopub.status.idle": "2022-06-27T19:15:25.847008Z",
     "shell.execute_reply": "2022-06-27T19:15:25.845846Z"
    },
    "papermill": {
     "duration": 0.087175,
     "end_time": "2022-06-27T19:15:25.849693",
     "exception": false,
     "start_time": "2022-06-27T19:15:25.762518",
     "status": "completed"
    },
    "tags": []
   },
   "outputs": [
    {
     "data": {
      "application/javascript": [
       "parent.postMessage({\"jupyterEvent\": \"custom.exercise_interaction\", \"data\": {\"outcomeType\": 1, \"valueTowardsCompletion\": 0.25, \"interactionType\": 1, \"questionType\": 2, \"questionId\": \"4_ReviewsPerRegion\", \"learnToolsVersion\": \"0.3.4\", \"failureMessage\": \"\", \"exceptionClass\": \"\", \"trace\": \"\"}}, \"*\")"
      ],
      "text/plain": [
       "<IPython.core.display.Javascript object>"
      ]
     },
     "metadata": {},
     "output_type": "display_data"
    },
    {
     "data": {
      "text/markdown": [
       "<span style=\"color:#33cc33\">Correct</span>"
      ],
      "text/plain": [
       "Correct"
      ]
     },
     "metadata": {},
     "output_type": "display_data"
    }
   ],
   "source": [
    "reviews.region_1 = reviews.region_1.fillna(\"Unknown\")\n",
    "\n",
    "reviews_per_region = reviews.region_1.value_counts().sort_values(ascending=False)\n",
    "\n",
    "# Check your answer\n",
    "q4.check()"
   ]
  },
  {
   "cell_type": "code",
   "execution_count": 9,
   "id": "9779fb75",
   "metadata": {
    "execution": {
     "iopub.execute_input": "2022-06-27T19:15:25.863850Z",
     "iopub.status.busy": "2022-06-27T19:15:25.863221Z",
     "iopub.status.idle": "2022-06-27T19:15:25.867648Z",
     "shell.execute_reply": "2022-06-27T19:15:25.866662Z"
    },
    "papermill": {
     "duration": 0.014338,
     "end_time": "2022-06-27T19:15:25.870015",
     "exception": false,
     "start_time": "2022-06-27T19:15:25.855677",
     "status": "completed"
    },
    "tags": []
   },
   "outputs": [],
   "source": [
    "#q4.hint()\n",
    "#q4.solution()"
   ]
  },
  {
   "cell_type": "markdown",
   "id": "4b3b6020",
   "metadata": {
    "papermill": {
     "duration": 0.005834,
     "end_time": "2022-06-27T19:15:25.881680",
     "exception": false,
     "start_time": "2022-06-27T19:15:25.875846",
     "status": "completed"
    },
    "tags": []
   },
   "source": [
    "# Keep going\n",
    "\n",
    "Move on to **[renaming and combining](https://www.kaggle.com/residentmario/renaming-and-combining)**."
   ]
  },
  {
   "cell_type": "markdown",
   "id": "55b5e4b0",
   "metadata": {
    "papermill": {
     "duration": 0.005576,
     "end_time": "2022-06-27T19:15:25.893257",
     "exception": false,
     "start_time": "2022-06-27T19:15:25.887681",
     "status": "completed"
    },
    "tags": []
   },
   "source": [
    "---\n",
    "\n",
    "\n",
    "\n",
    "\n",
    "*Have questions or comments? Visit the [course discussion forum](https://www.kaggle.com/learn/pandas/discussion) to chat with other learners.*"
   ]
  }
 ],
 "metadata": {
  "kernelspec": {
   "display_name": "Python 3",
   "language": "python",
   "name": "python3"
  },
  "language_info": {
   "codemirror_mode": {
    "name": "ipython",
    "version": 3
   },
   "file_extension": ".py",
   "mimetype": "text/x-python",
   "name": "python",
   "nbconvert_exporter": "python",
   "pygments_lexer": "ipython3",
   "version": "3.7.12"
  },
  "papermill": {
   "default_parameters": {},
   "duration": 13.49539,
   "end_time": "2022-06-27T19:15:26.620656",
   "environment_variables": {},
   "exception": null,
   "input_path": "__notebook__.ipynb",
   "output_path": "__notebook__.ipynb",
   "parameters": {},
   "start_time": "2022-06-27T19:15:13.125266",
   "version": "2.3.4"
  }
 },
 "nbformat": 4,
 "nbformat_minor": 5
}
